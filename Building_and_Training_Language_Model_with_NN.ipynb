{
  "cells": [
    {
      "cell_type": "markdown",
      "metadata": {
        "id": "view-in-github",
        "colab_type": "text"
      },
      "source": [
        "<a href=\"https://colab.research.google.com/github/furk4neg3/IBM_Language_Model_with_Neural_Networks/blob/main/Building_and_Training_Language_Model_with_NN.ipynb\" target=\"_parent\"><img src=\"https://colab.research.google.com/assets/colab-badge.svg\" alt=\"Open In Colab\"/></a>"
      ]
    },
    {
      "cell_type": "markdown",
      "metadata": {
        "id": "0tgTU5ldVMlx"
      },
      "source": [
        "<p style=\"text-align:center\">\n",
        "    <a href=\"https://skills.network\" target=\"_blank\">\n",
        "    <img src=\"https://cf-courses-data.s3.us.cloud-object-storage.appdomain.cloud/assets/logos/SN_web_lightmode.png\" width=\"200\" alt=\"Skills Network Logo\">\n",
        "    </a>\n",
        "</p>\n"
      ]
    },
    {
      "cell_type": "markdown",
      "metadata": {
        "id": "bTHzTwamVMl0"
      },
      "source": [
        "# **Building and Training a Simple Language Model with a Neural Network**\n",
        "\n",
        "This project serves as an introduction to the field of language modeling, focusing on creating a text generator tailored for composing 90s rap songs. You will utilize histogram N-gram models, implemented through the Natural Language Toolkit (NLTK). This approach allows us to construct revealing histograms, shedding light on nuanced cadences of word frequencies and distributions.\n",
        "\n",
        "These initial steps lay the foundation for understanding the intricacies of linguistic patterns. Progressing forward, you will delve into the domain of neural networks within the PyTorch framework. Within this realm, you will engineer a feedforward neural network, immersing ourselves in concepts such as embedding layers. You will also refine the output layer, tailoring it for optimal performance in language modeling tasks.\n",
        "\n",
        "Throughout this journey, you are going explore various training strategies and embrace fundamental Natural Language Processing (NLP) tasks, including tokenization and sequence analysis. As you traverse this enriching path, you will gain profound insights into the art of generating text, culminating in the ability to craft 90s rap lyrics that resonate with the era's unique style and rhythm.\n",
        "\n",
        "<div style=\"text-align:center;\">\n",
        "    <img src=\"https://cf-courses-data.s3.us.cloud-object-storage.appdomain.cloud/IBM-GPXX0WSVEN/song%20%281%29.png\" alt=\"Image Description\">\n",
        "</div>\n"
      ]
    },
    {
      "cell_type": "markdown",
      "metadata": {
        "id": "CrX0AMUVVMl0"
      },
      "source": [
        "# __Table of Contents__\n",
        "\n",
        "<ol>\n",
        "    <li><a href=\"#Objectives\">Objectives</a></li>\n",
        "    <li>\n",
        "        <a href=\"#Setup\">Setup</a>\n",
        "        <ol>\n",
        "            <li><a href=\"#Installing-required-libraries\">Installing required libraries</a></li>\n",
        "            <li><a href=\"#Importing-required-libraries\">Importing required libraries</a></li>\n",
        "            <li><a href=\"#Defining-helper-functions\">Defining helper functions</a></li>\n",
        "        </ol>\n",
        "    </li>\n",
        "        <li><a href=\"#Language-modeling\">Language modeling</a></li>\n",
        "        <ol>\n",
        "            <li><a href=\"#Tokenization\">Tokenization</a></li>\n",
        "            <li><a href=\"#Unigram-model\">Unigram model</a></li>\n",
        "            <li><a href=\"#Bigram-model\">Bigram model</a></li>\n",
        "            <li><a href=\"#Trigram-Model\">Trigram model</a></li>\n",
        "        </ol>\n",
        "    </li>\n",
        "    <li><a href=\"#Feedforward-Neural-Networks-(FNNs)-for-language-models\">Feedforward Neural Networks (FNNs) for language models</a></li>\n",
        "        <ol>\n",
        "            <li><a href=\"#Tokenization-for-FNN\">Tokenization for FNN</a></li>\n",
        "            <li><a href=\"#Indexing\">Indexing</a></li>\n",
        "            <li><a href=\"#Embedding-layers\">Embedding layers</a></li>\n",
        "        </ol>\n",
        "    <li><a href=\"#Generating-context-target-pairs-(n-grams)\">Generating context-target pairs (n-grams)</a></li>\n",
        "    <ol>\n",
        "        <li><a href=\"#Batch-function\">Batch function</a></li>\n",
        "        <li><a href=\"#Multi-class-neural-network\">Multi-class neural network</a></li>\n",
        "    </ol>\n",
        "    <li><a href=\"#Training\">Training</a></li>\n",
        "    </li>\n",
        "    <li><a href=\"#Exercises\">Exercises</a></li>\n",
        "    </li>\n",
        "</ol>\n"
      ]
    },
    {
      "cell_type": "markdown",
      "metadata": {
        "id": "oJsmFu8zVMl1"
      },
      "source": [
        "---\n"
      ]
    },
    {
      "cell_type": "markdown",
      "metadata": {
        "id": "q6ECMgI4VMl1"
      },
      "source": [
        "# Objectives\n",
        "\n",
        "After completing this lab, you will be able to:\n",
        "\n",
        " - Utilize histogram N-gram models, implemented through the Natural Language Toolkit (NLTK), to analyze and understand word frequencies and distributions.\n",
        " - Implement a feedforward neural network using the PyTorch framework, including embedding layers, for language modeling tasks.\n",
        " - Fine-tune the output layer of the neural network for optimal performance in text generation.\n",
        " - Apply various training strategies and fundamental Natural Language Processing (NLP) techniques, such as tokenization and sequence analysis, to improve text generation.\n"
      ]
    },
    {
      "cell_type": "markdown",
      "metadata": {
        "id": "yAjkimrbVMl1"
      },
      "source": [
        "---\n"
      ]
    },
    {
      "cell_type": "markdown",
      "metadata": {
        "id": "Yk5PJsH6VMl1"
      },
      "source": [
        "# Setup\n"
      ]
    },
    {
      "cell_type": "markdown",
      "metadata": {
        "id": "P0Ki9o4FVMl2"
      },
      "source": [
        "For this lab, you will use the following libraries:\n",
        "\n",
        "*   [`pandas`](https://pandas.pydata.org/?utm_medium=Exinfluencer&utm_source=Exinfluencer&utm_content=000026UJ&utm_term=10006555&utm_id=NA-SkillsNetwork-Channel-SkillsNetworkCoursesIBMML0187ENSkillsNetwork31430127-2021-01-01) for managing the data.\n",
        "*   [`numpy`](https://numpy.org/?utm_medium=Exinfluencer&utm_source=Exinfluencer&utm_content=000026UJ&utm_term=10006555&utm_id=NA-SkillsNetwork-Channel-SkillsNetworkCoursesIBMML0187ENSkillsNetwork31430127-2021-01-01) for mathematical operations.\n",
        "*   [`sklearn`](https://scikit-learn.org/stable/?utm_medium=Exinfluencer&utm_source=Exinfluencer&utm_content=000026UJ&utm_term=10006555&utm_id=NA-SkillsNetwork-Channel-SkillsNetworkCoursesIBMML0187ENSkillsNetwork31430127-2021-01-01) for machine learning and machine-learning-pipeline related functions.\n",
        "*   [`seaborn`](https://seaborn.pydata.org/?utm_medium=Exinfluencer&utm_source=Exinfluencer&utm_content=000026UJ&utm_term=10006555&utm_id=NA-SkillsNetwork-Channel-SkillsNetworkCoursesIBMML0187ENSkillsNetwork31430127-2021-01-01) for visualizing the data.\n",
        "*   [`matplotlib`](https://matplotlib.org/?utm_medium=Exinfluencer&utm_source=Exinfluencer&utm_content=000026UJ&utm_term=10006555&utm_id=NA-SkillsNetwork-Channel-SkillsNetworkCoursesIBMML0187ENSkillsNetwork31430127-2021-01-01) for additional plotting tools.\n"
      ]
    },
    {
      "cell_type": "markdown",
      "metadata": {
        "id": "DWi1OnNhVMl2"
      },
      "source": [
        "### Installing required libraries\n",
        "\n",
        "All the required libraries are pre-installed in the Skills Network Labs environment. However, if you run this notebook commands in a different Jupyter environment (e.g. Watson Studio or Ananconda), you will need to install these libraries using the code cell below.\n"
      ]
    },
    {
      "cell_type": "code",
      "execution_count": null,
      "metadata": {
        "tags": [],
        "id": "jNYiUpJHVMl2"
      },
      "outputs": [],
      "source": [
        "%%capture\n",
        "\n",
        "!mamba install -y nltk\n",
        "!pip install torchtext -qqq"
      ]
    },
    {
      "cell_type": "markdown",
      "metadata": {
        "id": "vIby9zqKVMl3"
      },
      "source": [
        "__Note__: The following required libraries are __not__ pre-installed in the Skills Network Labs environment. __You will need to run the following cell__ to install them:\n"
      ]
    },
    {
      "cell_type": "markdown",
      "metadata": {
        "id": "YR1pA2sMVMl3"
      },
      "source": [
        "### Importing required libraries\n",
        "\n",
        "_It is recommended that you import all required libraries in one place (here):_\n"
      ]
    },
    {
      "cell_type": "code",
      "execution_count": null,
      "metadata": {
        "tags": [],
        "id": "biO1o8GpVMl3"
      },
      "outputs": [],
      "source": [
        "%%capture\n",
        "import warnings\n",
        "from tqdm import tqdm\n",
        "\n",
        "warnings.simplefilter('ignore')\n",
        "import time\n",
        "from collections import OrderedDict\n",
        "\n",
        "import re\n",
        "\n",
        "import numpy as np\n",
        "import matplotlib.pyplot as plt\n",
        "import pandas as pd\n",
        "\n",
        "\n",
        "import nltk\n",
        "nltk.download('punkt')\n",
        "\n",
        "import torch\n",
        "import torch.nn as nn\n",
        "import torch.nn.functional as F\n",
        "import torch.optim as optim\n",
        "import string\n",
        "import time\n",
        "\n",
        "import matplotlib.pyplot as plt\n",
        "from sklearn.manifold import TSNE\n",
        "\n",
        "# You can also use this section to suppress warnings generated by your code:\n",
        "def warn(*args, **kwargs):\n",
        "    pass\n",
        "import warnings\n",
        "warnings.warn = warn\n",
        "%capture"
      ]
    },
    {
      "cell_type": "markdown",
      "metadata": {
        "id": "Du_36egwVMl3"
      },
      "source": [
        "### Defining helper functions\n",
        "\n",
        "Remove all non-word characters (everything except numbers and letters)\n"
      ]
    },
    {
      "cell_type": "code",
      "execution_count": null,
      "metadata": {
        "tags": [],
        "id": "Y-v9QhqqVMl3"
      },
      "outputs": [],
      "source": [
        "def preprocess_string(s):\n",
        "    # Remove all non-word characters (everything except numbers and letters)\n",
        "    s = re.sub(r\"[^\\w\\s]\", '', s)\n",
        "    # Replace all runs of whitespaces with no space\n",
        "    s = re.sub(r\"\\s+\", '', s)\n",
        "    # replace digits with no space\n",
        "    s = re.sub(r\"\\d\", '', s)\n",
        "\n",
        "    return s"
      ]
    },
    {
      "cell_type": "markdown",
      "metadata": {
        "id": "jIna-mjKVMl3"
      },
      "source": [
        "---\n"
      ]
    },
    {
      "cell_type": "markdown",
      "metadata": {
        "id": "gLWuuNecVMl3"
      },
      "source": [
        "## Language modeling\n",
        "\n",
        "Language modeling is a foundational concept within the field of natural language processing (NLP) and artificial intelligence. It involves the prediction of the likelihood of a sequence of words within a given language. This method is statistical in nature and seeks to capture the patterns, structures, and relationships that exist between words in a given text corpus.\n",
        "\n",
        "At its essence, a language model strives to comprehend the probabilities associated with sequences of words. This comprehension can be leveraged for a multitude of NLP tasks, including but not limited to text generation, machine translation, speech recognition, sentiment analysis, and more.\n",
        "\n",
        "Let's consider the following song lyrics to determine if you can generate similar output using a given word.\n"
      ]
    },
    {
      "cell_type": "code",
      "execution_count": null,
      "metadata": {
        "tags": [],
        "id": "xLK9eMkeVMl4"
      },
      "outputs": [],
      "source": [
        "song= \"\"\"We are no strangers to love\n",
        "You know the rules and so do I\n",
        "A full commitments what Im thinking of\n",
        "You wouldnt get this from any other guy\n",
        "I just wanna tell you how Im feeling\n",
        "Gotta make you understand\n",
        "Never gonna give you up\n",
        "Never gonna let you down\n",
        "Never gonna run around and desert you\n",
        "Never gonna make you cry\n",
        "Never gonna say goodbye\n",
        "Never gonna tell a lie and hurt you\n",
        "Weve known each other for so long\n",
        "Your hearts been aching but youre too shy to say it\n",
        "Inside we both know whats been going on\n",
        "We know the game and were gonna play it\n",
        "And if you ask me how Im feeling\n",
        "Dont tell me youre too blind to see\n",
        "Never gonna give you up\n",
        "Never gonna let you down\n",
        "Never gonna run around and desert you\n",
        "Never gonna make you cry\n",
        "Never gonna say goodbye\n",
        "Never gonna tell a lie and hurt you\n",
        "Never gonna give you up\n",
        "Never gonna let you down\n",
        "Never gonna run around and desert you\n",
        "Never gonna make you cry\n",
        "Never gonna say goodbye\n",
        "Never gonna tell a lie and hurt you\n",
        "Weve known each other for so long\n",
        "Your hearts been aching but youre too shy to say it\n",
        "Inside we both know whats been going on\n",
        "We know the game and were gonna play it\n",
        "I just wanna tell you how Im feeling\n",
        "Gotta make you understand\n",
        "Never gonna give you up\n",
        "Never gonna let you down\n",
        "Never gonna run around and desert you\n",
        "Never gonna make you cry\n",
        "Never gonna say goodbye\n",
        "Never gonna tell a lie and hurt you\n",
        "Never gonna give you up\n",
        "Never gonna let you down\n",
        "Never gonna run around and desert you\n",
        "Never gonna make you cry\n",
        "Never gonna say goodbye\n",
        "Never gonna tell a lie and hurt you\n",
        "Never gonna give you up\n",
        "Never gonna let you down\n",
        "Never gonna run around and desert you\n",
        "Never gonna make you cry\n",
        "Never gonna say goodbye\n",
        "Never gonna tell a lie and hurt you\"\"\""
      ]
    },
    {
      "cell_type": "markdown",
      "metadata": {
        "id": "Mg3SQbphVMl4"
      },
      "source": [
        "### Natural Language Toolkit (NLTK)\n"
      ]
    },
    {
      "cell_type": "markdown",
      "metadata": {
        "id": "g1qvNdipVMl4"
      },
      "source": [
        "NLTK is indeed a widely-used open-source library in Python that is specifically designed for various natural language processing (NLP) tasks. It provides a comprehensive set of tools, resources, and algorithms that aid in the analysis and manipulation of human language data.\n"
      ]
    },
    {
      "cell_type": "markdown",
      "metadata": {
        "id": "p23saUONVMl4"
      },
      "source": [
        "### Tokenization\n",
        "\n",
        "Tokenization, a fundamental concept within the realm of natural language processing (NLP), involves the intricate process of breaking down a body of text into discrete units known as tokens. These tokens can encompass words, phrases, sentences, or even individual characters, adapting based on the desired level of granularity for analysis. For the purpose of this project, you will focus on Word Tokenization, a prevalent technique. This technique treats each word in the text as an independent entity. Words, typically separated by spaces or punctuation marks, serve as the tokens in this approach. It's important to note that Word Tokenization exhibits versatile characteristics, including capitalization, symbols, and punctuation marks.\n",
        "\n",
        "To achieve the goal, you will utilize the```word_tokenize```function. During this process, you will remove punctuation, symbols, and capital letters.\n"
      ]
    },
    {
      "cell_type": "code",
      "execution_count": null,
      "metadata": {
        "tags": [],
        "id": "lmNPYBlXVMl4"
      },
      "outputs": [],
      "source": [
        "from nltk.tokenize import word_tokenize\n",
        "def preprocess(words):\n",
        "    tokens=word_tokenize(words)\n",
        "    tokens=[preprocess_string(w)   for w in tokens]\n",
        "    return [w.lower()  for w in tokens if len(w)!=0 or not(w in string.punctuation) ]\n",
        "\n",
        "tokens=preprocess(song)"
      ]
    },
    {
      "cell_type": "markdown",
      "metadata": {
        "id": "QBYaQH8aVMl4"
      },
      "source": [
        "The outcome is a collection of tokens, wherein each element of the```tokens```pertains to the lyrics of the song, arranged in sequential order.\n"
      ]
    },
    {
      "cell_type": "code",
      "execution_count": null,
      "metadata": {
        "tags": [],
        "id": "ysb0xWalVMl4",
        "outputId": "0b5caa51-ac33-4eb5-c443-647bf9a24711"
      },
      "outputs": [
        {
          "data": {
            "text/plain": [
              "['we', 'are', 'no', 'strangers', 'to', 'love', 'you', 'know', 'the', 'rules']"
            ]
          },
          "execution_count": 6,
          "metadata": {},
          "output_type": "execute_result"
        }
      ],
      "source": [
        "tokens[0:10]"
      ]
    },
    {
      "cell_type": "markdown",
      "metadata": {
        "id": "5LaOjxR8VMl5"
      },
      "source": [
        "The frequency distribution of words in a sentence represents how often each word appears in that particular sentence. It provides a count of the occurrences of individual words, allowing you to understand which words are more common or frequent within the given sentence. Let's work with the following toy example:\n",
        "\n",
        "```Text```: **I like dogs and I kinda like cats**\n",
        "\n",
        "```Tokens```: **[I like, dogs, and, I, kinda, like, cats]**\n",
        "\n",
        "The function```Count```will tally the occurrences of words in the input text.\n"
      ]
    },
    {
      "cell_type": "markdown",
      "metadata": {
        "id": "9VoM5ePnVMl5"
      },
      "source": [
        "$Count(\"I\")=2$\n",
        "\n",
        "$Count(\"like\")= 2$\n",
        "\n",
        "$Count(\"dogs\")=1$\n",
        "\n",
        "$Count(\"and\")=1$\n",
        "\n",
        "$Count(\"kinda\")=1$\n",
        "\n",
        "$Count(\"cats\")=1$\n",
        "\n",
        "$\\text{Total words} =8$\n"
      ]
    },
    {
      "cell_type": "markdown",
      "metadata": {
        "id": "T22UzWHYVMl5"
      },
      "source": [
        "Utilize```NLTK's FreqDist```to transform a frequency distribution of words. The outcome is a Python dictionary where the keys correspond to words, and the values indicate the frequency of each word's appearance. Please consider the provided example below.\n"
      ]
    },
    {
      "cell_type": "code",
      "execution_count": null,
      "metadata": {
        "tags": [],
        "id": "uJHZDi_7VMl5",
        "outputId": "dd3c0f52-d976-4f11-c91e-0e5a93d1b775"
      },
      "outputs": [
        {
          "data": {
            "text/plain": [
              "FreqDist({'na': 40, 'gon': 38, 'you': 37, 'never': 36, 'and': 16, 'tell': 9, 'make': 8, 'say': 8, 'a': 7, 'give': 6, ...})"
            ]
          },
          "execution_count": 7,
          "metadata": {},
          "output_type": "execute_result"
        }
      ],
      "source": [
        "# Create a frequency distribution of words\n",
        "fdist = nltk.FreqDist(tokens)\n",
        "fdist"
      ]
    },
    {
      "cell_type": "markdown",
      "metadata": {
        "id": "UyjZ2sx5VMl5"
      },
      "source": [
        " Plot the words with the top ten frequencies.\n"
      ]
    },
    {
      "cell_type": "code",
      "execution_count": null,
      "metadata": {
        "tags": [],
        "id": "yayHIucZVMl5",
        "outputId": "b3ad3652-dcd7-455b-d3c0-b7b8a4a5538d"
      },
      "outputs": [
        {
          "data": {
            "image/png": "[encoded data removed]",
            "text/plain": [
              "<Figure size 640x480 with 1 Axes>"
            ]
          },
          "metadata": {},
          "output_type": "display_data"
        }
      ],
      "source": [
        "plt.bar(list(fdist.keys())[0:10],list(fdist.values())[0:10])\n",
        "plt.xlabel(\"Words\")\n",
        "plt.ylabel(\"Frequency\")\n",
        "plt.show()"
      ]
    },
    {
      "cell_type": "markdown",
      "metadata": {
        "id": "FZOoYPymVMl6"
      },
      "source": [
        "### Unigram model\n",
        "\n",
        "An unigram model is a simple type of language model that considers each word in a sequence independently, without taking into account the previous words. In other words, it models the probability of each word occurring in the text, regardless of what came before it. Unigram models can be seen as a special case of n-gram models, where n is 1.\n"
      ]
    },
    {
      "cell_type": "markdown",
      "metadata": {
        "id": "VrBQPHDbVMl6"
      },
      "source": [
        "You can think that text follows patterns, and probabilities are used to measure how likely a sequence of words is. In a unigram model, each word is considered independent and doesn't rely on others. Let's calculate the probability of **'I like tiramisu but I love cheesecake more'**.\n",
        "\n",
        "$  P(\\text{\"I\"}) = \\frac{\\text{Count}(\\text{\"I\"})}{\\text{Total words}}=\\frac{2}{8} = 0.250  $\n",
        "\n",
        "$  P(\\text{\"like\"}) = \\frac{\\text{Count}(\\text{\"like\"})}{\\text{Total words}}=\\frac{1}{8} = 0.125  $\n",
        "\n",
        "$  P(\\text{\"tiramisu\"}) = \\frac{\\text{Count}(\\text{\"tiramisu\"})}{\\text{Total words}}=\\frac{1}{8} = 0.125  $\n",
        "\n",
        "$  P(\\text{\"but\"}) = \\frac{\\text{Count}(\\text{\"but\"})}{\\text{Total words}}=\\frac{1}{8} = 0.125  $\n",
        "\n",
        "$  P(\\text{\"I\"}) = \\frac{\\text{Count}(\\text{\"I\"})}{\\text{Total words}}=\\frac{2}{8} = 0.250  $\n",
        "\n",
        "$  P(\\text{\"love\"}) = \\frac{\\text{Count}(\\text{\"love\"})}{\\text{Total words}}=\\frac{1}{8} = 0.125  $\n",
        "\n",
        "$  P(\\text{\"cheesecake\"}) = \\frac{\\text{Count}(\\text{\"cheesecake\"})}{\\text{Total words}}=\\frac{1}{8} = 0.125  $\n",
        "\n",
        "$  P(\\text{\"more\"}) = \\frac{\\text{Count}(\\text{\"more\"})}{\\text{Total words}}=\\frac{1}{8} = 0.125  $\n",
        "\n",
        "$P(\\text{\"I\"}, \\text{\"like\"}, \\text{\"tiramisu\"}, \\text{\"but\"}, \\text{\"I\"}, \\text{\"love\"}, \\text{\"cheesecake\"}, \\text{\"more\"}) = P(\\text{\"I\"}) \\cdot P(\\text{\"like\"}) \\cdot P(\\text{\"tiramisu\"}) \\cdot P(\\text{\"but\"}) \\cdot P(\\text{\"I\"}) \\cdot P(\\text{\"love\"}) \\cdot P(\\text{\"cheesecake\"}) \\cdot P(\\text{\"more\"}) = 0.250 \\times 0.125 \\times 0.125 \\times 0.125 \\times 0.250 \\times 0.125 \\times 0.125 \\times 0.125$\n",
        "\n",
        "In general, language models boil down to predicting a sequence of length $t$: $P(W_t, W_{t-1}, ..., W_0)$. In this eight-word sequence, you have:\n",
        "\n",
        "$P(W_7=\\text{\"more\"}, W_6=\\text{\"cheesecake\"}, W_5=\\text{\"love\"}, W_4=\\text{\"I\"}, W_3=\\text{\"but\"}, W_2=\\text{\"tiramisu\"}, W_1=\\text{\"like\"}, W_0=\\text{\"I\"})$\n",
        "\n",
        "The subscript serves as a positional indicator in the sequence and does not impact the nature of $P(\\bullet)$. When formally expressing the sequence, the last word is positioned at the leftmost side, gradually descending as you move through the sequence.\n"
      ]
    },
    {
      "cell_type": "markdown",
      "metadata": {
        "id": "j40c8fdTVMl6"
      },
      "source": [
        "Using NLTK you can normalize the frequency values by dividing them by the total count of each word to get a probability function. Now you will find the probability of each word.\n"
      ]
    },
    {
      "cell_type": "code",
      "execution_count": null,
      "metadata": {
        "tags": [],
        "id": "Uju0ge-pVMl6",
        "outputId": "3c5d55c8-501d-4924-bacb-7a07c8170d35"
      },
      "outputs": [
        {
          "data": {
            "text/plain": [
              "385"
            ]
          },
          "execution_count": 9,
          "metadata": {},
          "output_type": "execute_result"
        }
      ],
      "source": [
        "#total count of each word\n",
        "C=sum(fdist.values())\n",
        "C"
      ]
    },
    {
      "cell_type": "markdown",
      "metadata": {
        "id": "ZnTPHkvOVMl6"
      },
      "source": [
        "Find the probability of the word wish  i.w $P(strangers)$.\n"
      ]
    },
    {
      "cell_type": "code",
      "execution_count": null,
      "metadata": {
        "tags": [],
        "id": "CIJFKoAYVMl6",
        "outputId": "84735a7d-5ede-4734-c0c2-39f29eeb6ba5"
      },
      "outputs": [
        {
          "data": {
            "text/plain": [
              "0.0025974025974025974"
            ]
          },
          "execution_count": 10,
          "metadata": {},
          "output_type": "execute_result"
        }
      ],
      "source": [
        "fdist['strangers']/C"
      ]
    },
    {
      "cell_type": "markdown",
      "metadata": {
        "id": "jpgKzx0KVMl7"
      },
      "source": [
        "Also, find each individual word by converting the tokens to a set.\n"
      ]
    },
    {
      "cell_type": "code",
      "execution_count": null,
      "metadata": {
        "tags": [],
        "id": "uh6O2baXVMl7"
      },
      "outputs": [],
      "source": [
        "vocabulary=set(tokens)"
      ]
    },
    {
      "cell_type": "markdown",
      "metadata": {
        "id": "byLsEqsWVMl7"
      },
      "source": [
        "#### How unigram model predicts the next likely word\n",
        "\n",
        "Let's consider a scenario from the above example **'I like tiramisu but I love cheesecake more'** where the unigram model is asked to predict the next word following the sequence **'I like'**.\n",
        "\n",
        "If the highest probability among all words is **\"I\"** with a probability  0.25, then according to the model, the most likely next word after **'I like'** would be **'I'**. However, this prediction doesn't make sense at all. This highlights a significant limitation of the unigram model—it lacks context, and its predictions are entirely dependent on the word with the highest probability \"I\" in this case\n",
        "\n",
        "Even if multiple words have the same highest probabilities, it will randomly choose any one word out of all the options.\n"
      ]
    },
    {
      "cell_type": "markdown",
      "metadata": {
        "id": "bFqcKMrOVMl7"
      },
      "source": [
        "### Bigram model\n",
        "\n",
        "Bigrams represent pairs of consecutive words in the given phrase, i.e., $(w_{t-1},w_t)$. Consider the following words from your example: \"I like dogs and I kinda like cats.\"\n",
        "\n",
        "The correct sequence of bigrams is:\n",
        "\n",
        "$(I, like)$\n",
        "\n",
        "$(like, dogs)$\n",
        "\n",
        "$(dogs, and)$\n",
        "\n",
        "$(and, I)$\n",
        "\n",
        "$(I, kinda)$\n",
        "\n",
        "$(kinda, like)$\n",
        "\n",
        "$(like, cats)$\n"
      ]
    },
    {
      "cell_type": "markdown",
      "metadata": {
        "id": "SxXtK0VoVMl8"
      },
      "source": [
        "**2-Gram models**: Bigram models use conditional probability. The probability of a word depends only on the previous word, i.e., the conditional probability $(W_{t}, W_{t-1})$ is used to predict the likelihood of word $(W_t)$ following word $W_{t-1}$ in a sequence. You can calculate the conditional probability for a bigram model using the following steps.\n"
      ]
    },
    {
      "cell_type": "markdown",
      "metadata": {
        "id": "yip95_geVMl8"
      },
      "source": [
        "Perform the bigram word count for each bigram: $Count(W_{t-1}, W_{t})$\n",
        "\n",
        "$Count(\\text{I, like}) = 1$\n",
        "\n",
        "$Count(\\text{like, dogs}) = 1$\n",
        "\n",
        "$Count(\\text{dogs, and}) = 1$\n",
        "\n",
        "$Count(\\text{and, I}) = 1$\n",
        "\n",
        "$Count(\\text{I, kinda}) = 1$\n",
        "\n",
        "$Count(\\text{kinda, like}) = 1$\n",
        "\n",
        "$Count(\\text{like, cats}) = 1$\n"
      ]
    },
    {
      "cell_type": "markdown",
      "metadata": {
        "id": "ObEq5UqrVMl8"
      },
      "source": [
        "Now, let's calculate the conditional probability for each bigram in the form of $P(w_{t} | w_{t-1})$, where $w_{t-1}$ is the **context**, and the context size is one.\n",
        "\n",
        "$P(\\text{\"like\"} | \\text{\"I\"}) = \\frac{\\text{Count}(\\text{\"I, like\"})}{\\text{Total count of \"I\"}} = \\frac{1}{2} = 0.5$\n",
        "\n",
        "$P(\\text{\"dogs\"} | \\text{\"like\"}) = \\frac{\\text{Count}(\\text{\"like, dogs\"})}{\\text{Total count of \"like\"}} = \\frac{1}{2} = 0.5$\n",
        "\n",
        "$:$\n",
        "\n",
        "$P(\\text{\"like\"} | \\text{\"kinda\"}) = \\frac{\\text{Count}(\\text{\"kinda, like\"})}{\\text{Total count of \"kinda\"}} = \\frac{1}{1} = 1$\n",
        "\n",
        "$P(\\text{\"cats\"} | \\text{\"like\"}) = \\frac{\\text{Count}(\\text{\"like, cats\"})}{\\text{Total count of \"like\"}} = \\frac{1}{2} = 0.5$\n",
        "\n",
        "These probabilities represent the likelihood of encountering the second word in a bigram, given the presence of the first word.\n"
      ]
    },
    {
      "cell_type": "markdown",
      "metadata": {
        "id": "ieAIFGXtVMl8"
      },
      "source": [
        "This approach is, in fact, an approximation used to determine the most likely word $W_t$, given the words $W_{t-1}, W_{t-2}, \\ldots, W_1$ in the sequence.\n",
        "\n",
        "$P(W_t | W_{t-1}, W_{t-2}, \\ldots, W_1) \\approx P(W_t | W_{t-1})$\n",
        "\n",
        "The conditional probability $P(W_t | W_{t-1})$ signifies the likelihood of encountering the word $W_t$, based on the context provided by the preceding word $W_{t-1}$. By employing this approximation, simplify the modeling process by assuming that the occurrence of the current word is mainly influenced by the most recent word in the sequence. In general, you have the capability to identify the most likely word.\n",
        "\n",
        "$\\hat{W_t} = \\arg\\max_{W_t} \\left( P(W_t | W_{t-1}) \\right)$\n"
      ]
    },
    {
      "cell_type": "markdown",
      "metadata": {
        "id": "ax252f2EVMl8"
      },
      "source": [
        "```bigrams``` is a function provided by the Natural Language Toolkit (NLTK) library in Python. This function takes a sequence of tokens as input and returns an iterator over consecutive pairs of tokens, forming bigrams.\n"
      ]
    },
    {
      "cell_type": "code",
      "execution_count": null,
      "metadata": {
        "tags": [],
        "id": "_YVCBQykVMl8",
        "outputId": "06d7587f-5cba-4546-a604-eddc699a31d5"
      },
      "outputs": [
        {
          "data": {
            "text/plain": [
              "<generator object bigrams at 0x7f63ea834a50>"
            ]
          },
          "execution_count": 12,
          "metadata": {},
          "output_type": "execute_result"
        }
      ],
      "source": [
        "bigrams = nltk.bigrams(tokens)\n",
        "bigrams"
      ]
    },
    {
      "cell_type": "markdown",
      "metadata": {
        "id": "bMgANtzxVMl8"
      },
      "source": [
        "Convert a generator into a list, where each element of the list is a bigram.\n"
      ]
    },
    {
      "cell_type": "code",
      "execution_count": null,
      "metadata": {
        "tags": [],
        "id": "mhbR-t8KVMl9"
      },
      "outputs": [],
      "source": [
        "my_bigrams=list(nltk.bigrams(tokens))"
      ]
    },
    {
      "cell_type": "markdown",
      "metadata": {
        "id": "7v6jYUpOVMl9"
      },
      "source": [
        "You can see the first 10 bigrams.\n"
      ]
    },
    {
      "cell_type": "code",
      "execution_count": null,
      "metadata": {
        "tags": [],
        "id": "2NTQ-DONVMl9",
        "outputId": "31ec07c4-f059-4bf8-d623-3beb146673ce"
      },
      "outputs": [
        {
          "data": {
            "text/plain": [
              "[('we', 'are'),\n",
              " ('are', 'no'),\n",
              " ('no', 'strangers'),\n",
              " ('strangers', 'to'),\n",
              " ('to', 'love'),\n",
              " ('love', 'you'),\n",
              " ('you', 'know'),\n",
              " ('know', 'the'),\n",
              " ('the', 'rules'),\n",
              " ('rules', 'and')]"
            ]
          },
          "execution_count": 14,
          "metadata": {},
          "output_type": "execute_result"
        }
      ],
      "source": [
        "my_bigrams[0:10]"
      ]
    },
    {
      "cell_type": "markdown",
      "metadata": {
        "id": "t06OegknVMl9"
      },
      "source": [
        "Compute the frequency distribution of the bigram $C(w_{t},w_{t-1})$ using the NLTK function```bigrams```.\n"
      ]
    },
    {
      "cell_type": "code",
      "execution_count": null,
      "metadata": {
        "tags": [],
        "id": "RcvFWBJ0VMl9",
        "outputId": "76fb1f67-9a66-4fc7-9ed9-c5fa9cdac75e"
      },
      "outputs": [
        {
          "data": {
            "text/plain": [
              "FreqDist({('gon', 'na'): 38, ('never', 'gon'): 36, ('you', 'never'): 9, ('na', 'tell'): 8, ('make', 'you'): 8, ('na', 'give'): 6, ('give', 'you'): 6, ('you', 'up'): 6, ('up', 'never'): 6, ('na', 'let'): 6, ...})"
            ]
          },
          "execution_count": 15,
          "metadata": {},
          "output_type": "execute_result"
        }
      ],
      "source": [
        "freq_bigrams  = nltk.FreqDist(nltk.bigrams(tokens))\n",
        "freq_bigrams"
      ]
    },
    {
      "cell_type": "markdown",
      "metadata": {
        "id": "aiIXfwe_VMl-"
      },
      "source": [
        "The result is akin to a dictionary, where the key is a tuple containing the bigram.\n"
      ]
    },
    {
      "cell_type": "code",
      "execution_count": null,
      "metadata": {
        "tags": [],
        "id": "rz6Z6MtXVMl-",
        "outputId": "23f1953a-4683-4be8-d27b-b22904e97347"
      },
      "outputs": [
        {
          "data": {
            "text/plain": [
              "1"
            ]
          },
          "execution_count": 16,
          "metadata": {},
          "output_type": "execute_result"
        }
      ],
      "source": [
        "freq_bigrams[('we', 'are')]"
      ]
    },
    {
      "cell_type": "markdown",
      "metadata": {
        "id": "tFLW5zxDVMl-"
      },
      "source": [
        "It is possible to provide you with the first 10 values of the frequency distribution.\n"
      ]
    },
    {
      "cell_type": "code",
      "execution_count": null,
      "metadata": {
        "tags": [],
        "id": "jxNvSbtLVMl-",
        "outputId": "d029d86a-3cf3-48e2-a6af-78a464b9fb78"
      },
      "outputs": [
        {
          "name": "stdout",
          "output_type": "stream",
          "text": [
            "('we', 'are')\n",
            "1\n",
            "('are', 'no')\n",
            "1\n",
            "('no', 'strangers')\n",
            "1\n",
            "('strangers', 'to')\n",
            "1\n",
            "('to', 'love')\n",
            "1\n",
            "('love', 'you')\n",
            "1\n",
            "('you', 'know')\n",
            "1\n",
            "('know', 'the')\n",
            "3\n",
            "('the', 'rules')\n",
            "1\n",
            "('rules', 'and')\n",
            "1\n"
          ]
        }
      ],
      "source": [
        "for my_bigram in  my_bigrams[0:10]:\n",
        "    print(my_bigram)\n",
        "    print(freq_bigrams[my_bigram])"
      ]
    },
    {
      "cell_type": "markdown",
      "metadata": {
        "id": "d_j7bSx1VMl_"
      },
      "source": [
        "Here, you can generate the conditional distribution by normalizing the frequency distribution of unigrams. In this case, you are doing it for the word 'strangers' and then sorting the results:\n"
      ]
    },
    {
      "cell_type": "code",
      "execution_count": null,
      "metadata": {
        "tags": [],
        "id": "DBHNTfO3VMl_"
      },
      "outputs": [],
      "source": [
        "word=\"strangers\"\n",
        "vocab_probabilities={}\n",
        "for next_word in vocabulary:\n",
        "    vocab_probabilities[next_word]=freq_bigrams[(word,next_word)]/fdist[word]\n",
        "\n",
        "vocab_probabilities=sorted(vocab_probabilities.items(), key=lambda x:x[1],reverse=True)"
      ]
    },
    {
      "cell_type": "markdown",
      "metadata": {
        "id": "3XiItwLyVMl_"
      },
      "source": [
        "Print out the words that are more likely to occur.\n"
      ]
    },
    {
      "cell_type": "code",
      "execution_count": null,
      "metadata": {
        "tags": [],
        "id": "UnBRL2MLVMl_",
        "outputId": "3644bcba-897a-4e9b-e5a5-7a9168c0d368"
      },
      "outputs": [
        {
          "data": {
            "text/plain": [
              "[('to', 1.0), ('we', 0.0), ('how', 0.0), ('for', 0.0)]"
            ]
          },
          "execution_count": 19,
          "metadata": {},
          "output_type": "execute_result"
        }
      ],
      "source": [
        "vocab_probabilities[0:4]"
      ]
    },
    {
      "cell_type": "markdown",
      "metadata": {
        "id": "CU61Vrn9VMl_"
      },
      "source": [
        "Create a function to calculate the conditional probability of $W_t$ given $W_{t-1}$, sort the results, and output them as a list.\n"
      ]
    },
    {
      "cell_type": "code",
      "execution_count": null,
      "metadata": {
        "tags": [],
        "id": "KzZwq2klVMl_"
      },
      "outputs": [],
      "source": [
        "def make_predictions(my_words, freq_grams, normlize=1, vocabulary=vocabulary):\n",
        "    \"\"\"\n",
        "    Generate predictions for the conditional probability of the next word given a sequence.\n",
        "\n",
        "    Args:\n",
        "        my_words (list): A list of words in the input sequence.\n",
        "        freq_grams (dict): A dictionary containing frequency of n-grams.\n",
        "        normlize (int): A normalization factor for calculating probabilities.\n",
        "        vocabulary (list): A list of words in the vocabulary.\n",
        "\n",
        "    Returns:\n",
        "        list: A list of predicted words along with their probabilities, sorted in descending order.\n",
        "    \"\"\"\n",
        "\n",
        "    vocab_probabilities = {}  # Initialize a dictionary to store predicted word probabilities\n",
        "\n",
        "    context_size = len(list(freq_grams.keys())[0])  # Determine the context size from n-grams keys\n",
        "\n",
        "    # Preprocess input words and take only the relevant context words\n",
        "    my_tokens = preprocess(my_words)[0:context_size - 1]\n",
        "\n",
        "    # Calculate probabilities for each word in the vocabulary given the context\n",
        "    for next_word in vocabulary:\n",
        "        temp = my_tokens.copy()\n",
        "        temp.append(next_word)  # Add the next word to the context\n",
        "\n",
        "        # Calculate the conditional probability using the frequency information\n",
        "        if normlize!=0:\n",
        "            vocab_probabilities[next_word] = freq_grams[tuple(temp)] / normlize\n",
        "        else:\n",
        "            vocab_probabilities[next_word] = freq_grams[tuple(temp)]\n",
        "    # Sort the predicted words based on their probabilities in descending order\n",
        "    vocab_probabilities = sorted(vocab_probabilities.items(), key=lambda x: x[1], reverse=True)\n",
        "\n",
        "    return vocab_probabilities  # Return the sorted list of predicted words and their probabilities"
      ]
    },
    {
      "cell_type": "markdown",
      "metadata": {
        "id": "d5G5KpcAVMl_"
      },
      "source": [
        "Set $W_{t-1}$ to 'i' and then calculate all the values of $P(W_t | W_{t-1}=i)$.\n"
      ]
    },
    {
      "cell_type": "code",
      "execution_count": null,
      "metadata": {
        "tags": [],
        "id": "k-GDwHRrVMl_"
      },
      "outputs": [],
      "source": [
        "my_words=\"are\"\n",
        "\n",
        "vocab_probabilities=make_predictions(my_words,freq_bigrams,normlize=fdist['i'])"
      ]
    },
    {
      "cell_type": "code",
      "execution_count": null,
      "metadata": {
        "tags": [],
        "id": "VC3rVvRpVMl_",
        "outputId": "35ffaa68-ea1a-4332-e561-fbf115a20cb1"
      },
      "outputs": [
        {
          "data": {
            "text/plain": [
              "[('no', 0.3333333333333333),\n",
              " ('we', 0.0),\n",
              " ('how', 0.0),\n",
              " ('for', 0.0),\n",
              " ('ta', 0.0),\n",
              " ('both', 0.0),\n",
              " ('so', 0.0),\n",
              " ('hurt', 0.0),\n",
              " ('any', 0.0),\n",
              " ('you', 0.0)]"
            ]
          },
          "execution_count": 22,
          "metadata": {},
          "output_type": "execute_result"
        }
      ],
      "source": [
        "vocab_probabilities[0:10]"
      ]
    },
    {
      "cell_type": "markdown",
      "metadata": {
        "id": "k2MjfXEpVMmA"
      },
      "source": [
        "The word with the highest probability, denoted as $\\hat{W}_t$, is given by the first element of the list, this can be used as a simple autocomplete:\n"
      ]
    },
    {
      "cell_type": "code",
      "execution_count": null,
      "metadata": {
        "tags": [],
        "id": "2Gie928wVMmA",
        "outputId": "89e88092-5ac7-49a4-a327-9c9975b86e40"
      },
      "outputs": [
        {
          "data": {
            "text/plain": [
              "'no'"
            ]
          },
          "execution_count": 23,
          "metadata": {},
          "output_type": "execute_result"
        }
      ],
      "source": [
        "vocab_probabilities[0][0]"
      ]
    },
    {
      "cell_type": "markdown",
      "metadata": {
        "id": "1IP7ddIBVMmA"
      },
      "source": [
        "Generate a sequence using the bigram model by leveraging the preceding word (t-1) to predict and generate the subsequent word in the sequence.\n"
      ]
    },
    {
      "cell_type": "code",
      "execution_count": null,
      "metadata": {
        "tags": [],
        "id": "NGioM1YmVMmA"
      },
      "outputs": [],
      "source": [
        "my_song=\"\"\n",
        "for w in tokens[0:100]:\n",
        "  my_word=make_predictions(w,freq_bigrams)[0][0]\n",
        "  my_song+=\" \"+my_word"
      ]
    },
    {
      "cell_type": "code",
      "execution_count": null,
      "metadata": {
        "tags": [],
        "id": "JBBltlDjVMmA",
        "outputId": "be24b41b-03c2-48f6-d20d-9381d1305c56"
      },
      "outputs": [
        {
          "data": {
            "text/plain": [
              "' both no strangers to say you never the game and hurt long i just lie commitments what im feeling of you never get this from any other for i just wan na tell a never im feeling got ta make you never never gon na tell you never never gon na tell you never never gon na tell around and hurt you never gon na tell you never never gon na tell goodbye never gon na tell a lie and hurt you never known each other for so long your hearts been aching but youre too shy to say goodbye'"
            ]
          },
          "execution_count": 25,
          "metadata": {},
          "output_type": "execute_result"
        }
      ],
      "source": [
        " my_song"
      ]
    },
    {
      "cell_type": "markdown",
      "metadata": {
        "id": "r5y8feZrVMmA"
      },
      "source": [
        "Create a sequence using the n-gram model by initiating the process with the first word in the sequence and producing an initial output. Subsequently, utilize this output as the basis for generating the next word in the sequence, i.e., you will give your model a word, then use the output to predict the next word and repeat.\n"
      ]
    },
    {
      "cell_type": "code",
      "execution_count": null,
      "metadata": {
        "tags": [],
        "id": "6k-BUisjVMmA"
      },
      "outputs": [],
      "source": [
        "my_song=\"i\"\n",
        "\n",
        "for i in range(100):\n",
        "    my_word=make_predictions(my_word,freq_bigrams)[0][0]\n",
        "    my_song+=\" \"+my_word"
      ]
    },
    {
      "cell_type": "code",
      "execution_count": null,
      "metadata": {
        "tags": [],
        "id": "LRJ5OsSLVMmC",
        "outputId": "fe8269df-4653-4b80-95f4-9a884b9c79ed"
      },
      "outputs": [
        {
          "data": {
            "text/plain": [
              "'i never gon na tell a lie and hurt you never gon na tell a lie and hurt you never gon na tell a lie and hurt you never gon na tell a lie and hurt you never gon na tell a lie and hurt you never gon na tell a lie and hurt you never gon na tell a lie and hurt you never gon na tell a lie and hurt you never gon na tell a lie and hurt you never gon na tell a lie and hurt you never gon na tell a lie and hurt you never'"
            ]
          },
          "execution_count": 27,
          "metadata": {},
          "output_type": "execute_result"
        }
      ],
      "source": [
        "my_song"
      ]
    },
    {
      "cell_type": "markdown",
      "metadata": {
        "id": "v2LyvL9fVMmD"
      },
      "source": [
        "This method may not yield optimal results; consider the following:\n",
        "\n",
        "$\\hat{W_1}=\\arg\\max{W_1} \\left( P(W_1 | W_{0}=\\text{like})\\right)$.\n",
        "\n",
        "Upon evaluation, observe that the result for $\\hat{W}_1$ includes both \"dogs\" and \"cats\" with equal likelihood.\n"
      ]
    },
    {
      "cell_type": "markdown",
      "metadata": {
        "id": "nApvVo3OVMmD"
      },
      "source": [
        "## Trigram model\n",
        "For the given example sentence: 'I like dogs and I kinda like cats'\n",
        "\n",
        "$ (I, like, dogs) $\n",
        "\n",
        "$(like, dogs, and) $\n",
        "\n",
        "$(dogs, and, I)$\n",
        "\n",
        "$(and, I, kinda)$\n",
        "\n",
        "$(I, kinda, like)$\n",
        "\n",
        "$(kinda, like, cats)$\n",
        "\n",
        "Trigram models incorporate conditional probability as well. The probability of a word depends on the two preceding words. The conditional probability $P(W_t | W_{t-2}, W_{t-1})$ is utilized to predict the likelihood of word $W_t$ following the two previous words in a sequence. The context is $W_{t-2}, W_{t-1}$ and is of length 2. Let's compute the conditional probability for each trigram:\n",
        "\n",
        "Calculate the trigram frequencies for each trigram: $Count(W_{t-2}, W_{t-1}, W_t)$\n",
        "\n",
        "### Trigram frequency counts\n",
        "\n",
        "$ \\text{Count(I, like, dogs)} = 1 $\n",
        "\n",
        "$ \\text{Count(like, dogs, and)} = 1 $\n",
        "\n",
        "$\\text{Count(dogs, and, I)} = 1$\n",
        "\n",
        "$ \\text{Count(and, I, kinda)} = 1$\n",
        "\n",
        "$ \\text{Count(I, kinda, like)} = 1 $\n",
        "\n",
        "$ \\text{Count(kinda, like, cats)} = 1 $\n",
        "\n",
        "The conditional probability $ P(w_{t} | w_{t-1}, w_{t-2})$ where $w_{t-1}$ and $w_{t-2}$ form the context, and the context size is 2.\n",
        "\n",
        "To better understand how this outperforms the bigram model, let's compute the conditional probabilities with the context \"I like\":\n",
        "\n",
        "$\\hat{W_2}=\\arg\\max{W_2} \\left( P(W_2 | W_{1}=like,W_{0}=I)\\right)$\n",
        "\n",
        "and for the words \"cats\" and \"dogs\":\n",
        "\n",
        "$ P(\"dogs\" | \"like\", \"I\") = \\frac{Count(I, like, dogs)}{Total \\ count \\ of \\ \"I\", \"like\"} = \\frac{1}{1} = 1 $\n",
        "\n",
        "$ P(\"cats\" | \"like\", \"I\") = \\frac{Count(I, like, cats)}{Total \\ count \\ of \\ \"I\", \"like\"} = 0$\n",
        "\n",
        "These probabilities signify the likelihood of encountering the third word in a trigram. Notably, the result $\\hat{W}_2$ is \"dogs,\" which seems to align better with the sequence.\n",
        "\n",
        "The trigrams function is provided by the Natural Language Toolkit (NLTK) library in Python. This function takes a sequence of tokens as input, returns an iterator over consecutive token triplets, generating trigrams, and converts them into a frequency distribution.\n"
      ]
    },
    {
      "cell_type": "code",
      "execution_count": null,
      "metadata": {
        "tags": [],
        "id": "uGHubbVLVMmD",
        "outputId": "d2a0b02f-2608-47c3-cce3-b805b02c7521"
      },
      "outputs": [
        {
          "data": {
            "text/plain": [
              "FreqDist({('never', 'gon', 'na'): 36, ('you', 'never', 'gon'): 9, ('gon', 'na', 'give'): 6, ('na', 'give', 'you'): 6, ('give', 'you', 'up'): 6, ('you', 'up', 'never'): 6, ('up', 'never', 'gon'): 6, ('gon', 'na', 'let'): 6, ('na', 'let', 'you'): 6, ('let', 'you', 'down'): 6, ...})"
            ]
          },
          "execution_count": 28,
          "metadata": {},
          "output_type": "execute_result"
        }
      ],
      "source": [
        "freq_trigrams  = nltk.FreqDist(nltk.trigrams(tokens))\n",
        "freq_trigrams"
      ]
    },
    {
      "cell_type": "markdown",
      "metadata": {
        "id": "wt8LbahcVMmD"
      },
      "source": [
        "Find the probability for each of the next words.\n"
      ]
    },
    {
      "cell_type": "code",
      "execution_count": null,
      "metadata": {
        "tags": [],
        "id": "eJ6JILe6VMmD",
        "outputId": "de1edd4a-e5f4-4e85-d528-ea2c6f4e4af5"
      },
      "outputs": [
        {
          "data": {
            "text/plain": [
              "[('i', 1.0),\n",
              " ('we', 0.0),\n",
              " ('how', 0.0),\n",
              " ('for', 0.0),\n",
              " ('ta', 0.0),\n",
              " ('both', 0.0),\n",
              " ('so', 0.0),\n",
              " ('hurt', 0.0),\n",
              " ('any', 0.0),\n",
              " ('you', 0.0)]"
            ]
          },
          "execution_count": 29,
          "metadata": {},
          "output_type": "execute_result"
        }
      ],
      "source": [
        "make_predictions(\"so do\",freq_trigrams,normlize=freq_bigrams[('do','i')] )[0:10]"
      ]
    },
    {
      "cell_type": "markdown",
      "metadata": {
        "id": "jMYwdPNnVMmE"
      },
      "source": [
        "Find the probability for each of the next words.\n"
      ]
    },
    {
      "cell_type": "code",
      "execution_count": null,
      "metadata": {
        "tags": [],
        "id": "81Sta97TVMmE"
      },
      "outputs": [],
      "source": [
        "my_song=\"\"\n",
        "\n",
        "w1=tokens[0]\n",
        "for w2 in tokens[0:100]:\n",
        "    gram=w1+' '+w2\n",
        "    my_word=make_predictions(gram,freq_trigrams )[0][0]\n",
        "    my_song+=\" \"+my_word\n",
        "    w1=w2"
      ]
    },
    {
      "cell_type": "code",
      "execution_count": null,
      "metadata": {
        "tags": [],
        "id": "hZnyCpvjVMmE",
        "outputId": "4eb1bcfa-4266-4d1b-901e-e7271b49394e"
      },
      "outputs": [
        {
          "data": {
            "text/plain": [
              "' we no strangers to love you know the game and so do i a full commitments what im thinking of you wouldnt get this from any other guy i just wan na tell a how im feeling got ta make you cry never gon na make you up never gon na make you down never gon na make around and desert you never gon na make you cry never gon na make goodbye never gon na make a lie and hurt you never known each other for so long your hearts been aching but youre too shy to say it'"
            ]
          },
          "execution_count": 31,
          "metadata": {},
          "output_type": "execute_result"
        }
      ],
      "source": [
        "my_song"
      ]
    },
    {
      "cell_type": "markdown",
      "metadata": {
        "id": "UiqTuEs5VMmE"
      },
      "source": [
        "There are various challenges associated with Histogram-Based Methods, some of which are quite straightforward. For instance, when considering the case of having N words in your vocabulary, a Unigram model would entail $N$ bins, while a Bigram model would result in $N^2$ bins and so forth.\n",
        "\n",
        "N-gram models also encounter limitations in terms of contextual understanding and their ability to capture intricate word relationships. For instance, let's consider the phrases `I hate dogs`, `I don’t like dogs`, and **don’t like** means **dislike**. Within this context, a histogram-based approach would fail to grasp the significance of the phrase **don’t like** means **dislike**, thereby missing out on the essential semantic relationship it encapsulates.\n"
      ]
    },
    {
      "cell_type": "markdown",
      "metadata": {
        "id": "94yxGRLfVMmE"
      },
      "source": [
        "## Feedforward Neural Networks (FNNs) for language models\n",
        "\n",
        "FNNs, or Multi-Layer Perceptrons, serve as the foundational components for comprehending neural networks in natural language processing (NLP). In NLP tasks, FNNs process textual data by transforming it into numerical vectors known as embeddings. Subsequently, these embeddings are input to the network to predict language facets, such as the upcoming word in a sentence or the sentiment of a text.\n"
      ]
    },
    {
      "cell_type": "code",
      "execution_count": null,
      "metadata": {
        "tags": [],
        "id": "FCuWtbSbVMmE"
      },
      "outputs": [],
      "source": [
        "from torchtext.data.utils import get_tokenizer\n",
        "from torchtext.vocab import build_vocab_from_iterator"
      ]
    },
    {
      "cell_type": "markdown",
      "metadata": {
        "id": "rnJJJj0JVMmF"
      },
      "source": [
        " ### Tokenization for FNN\n"
      ]
    },
    {
      "cell_type": "markdown",
      "metadata": {
        "id": "WdCVTYhNVMmF"
      },
      "source": [
        " This PyTorch function is used to obtain a tokenizer for text.\n"
      ]
    },
    {
      "cell_type": "code",
      "execution_count": null,
      "metadata": {
        "tags": [],
        "id": "-3xSoxjCVMmF"
      },
      "outputs": [],
      "source": [
        "tokenizer = get_tokenizer(\"basic_english\")\n",
        "tokens=tokenizer(song)"
      ]
    },
    {
      "cell_type": "markdown",
      "metadata": {
        "id": "lZG6KipZVMmF"
      },
      "source": [
        "### Indexing\n",
        "\n",
        "TorchText provides tools to tokenize text into individual words (tokens) and build a vocabulary, which maps tokens to unique integer indexes. This is a crucial step in preparing text data for  machine learning models that require numerical input.\n"
      ]
    },
    {
      "cell_type": "code",
      "execution_count": null,
      "metadata": {
        "tags": [],
        "id": "blHHVasHVMmF"
      },
      "outputs": [],
      "source": [
        "# Create a vocabulary from text tokens\n",
        "\n",
        "# tokenize the 'song' text using the provided tokenizer.\n",
        "# The map function applies the tokenizer to each word in the 'song' after splitting it.\n",
        "# The result is a list of tokens representing the words in the 'song'.\n",
        "tokenized_song = map(tokenizer, song.split())\n",
        "\n",
        "# Step 2: Vocabulary Building\n",
        "# The build_vocab_from_iterator function constructs a vocabulary from the tokenized text.\n",
        "# In this case, add a special token \"<unk>\" (unknown token) to handle out-of-vocabulary words.\n",
        "vocab = build_vocab_from_iterator(tokenized_song, specials=[\"<unk>\"])\n",
        "\n",
        "# Step 3: Set Default Index\n",
        "# Set the default index for the vocabulary to the index corresponding to the \"<unk>\" token.\n",
        "# This ensures that any unknown tokens in the future will be mapped to this index.\n",
        "vocab.set_default_index(vocab[\"<unk>\"])"
      ]
    },
    {
      "cell_type": "markdown",
      "metadata": {
        "id": "nexiWtQpVMmF"
      },
      "source": [
        "Convert the tokens to indices by applying the function as shown here:\n"
      ]
    },
    {
      "cell_type": "code",
      "execution_count": null,
      "metadata": {
        "tags": [],
        "id": "ioRRmucOVMmF",
        "outputId": "3bfb37bd-eb11-4514-bf6d-6701ed5e1071"
      },
      "outputs": [
        {
          "data": {
            "text/plain": [
              "[21, 58, 70, 74, 25, 69, 2, 20, 31, 72]"
            ]
          },
          "execution_count": 35,
          "metadata": {},
          "output_type": "execute_result"
        }
      ],
      "source": [
        "vocab(tokens[0:10])"
      ]
    },
    {
      "cell_type": "markdown",
      "metadata": {
        "id": "lg9DE_nvVMmF"
      },
      "source": [
        "Write a text function that converts raw text into indexes.\n"
      ]
    },
    {
      "cell_type": "code",
      "execution_count": null,
      "metadata": {
        "tags": [],
        "id": "oFjU6RYWVMmG",
        "outputId": "a49dea0e-3c91-4671-a08a-6f8640c29660"
      },
      "outputs": [
        {
          "data": {
            "text/plain": [
              "[21, 58, 70, 74, 25, 69, 2, 20, 31, 72]"
            ]
          },
          "execution_count": 36,
          "metadata": {},
          "output_type": "execute_result"
        }
      ],
      "source": [
        "text_pipeline = lambda x: vocab(tokenizer(x))\n",
        "text_pipeline(song)[0:10]"
      ]
    },
    {
      "cell_type": "markdown",
      "metadata": {
        "id": "kTGPYuUkVMmG"
      },
      "source": [
        "Find the word corresponding to an index using the```get_itos()```method. The result is a list where the index of the list corresponds to a word.\n"
      ]
    },
    {
      "cell_type": "code",
      "execution_count": null,
      "metadata": {
        "tags": [],
        "id": "JETTnmBFVMmG",
        "outputId": "577a1a91-236a-4c0c-8b3f-2c09c497a769"
      },
      "outputs": [
        {
          "data": {
            "text/plain": [
              "'<unk>'"
            ]
          },
          "execution_count": 37,
          "metadata": {},
          "output_type": "execute_result"
        }
      ],
      "source": [
        "index_to_token = vocab.get_itos()\n",
        "index_to_token[0]"
      ]
    },
    {
      "cell_type": "markdown",
      "metadata": {
        "id": "AQSk1FBcVMmG"
      },
      "source": [
        "## Embedding layers\n",
        "\n",
        "An embedding layer is a crucial element in natural language processing (NLP) and neural networks designed for sequential data. It serves to convert categorical variables, like words or discrete indexes representing tokens, into continuous vectors. This transformation facilitates training and enables the network to learn meaningful relationships among words.\n",
        "\n",
        "Let's consider a simple example involving a vocabulary of words\n",
        "- **Vocabulary**: {apple, banana, orange, pear}\n",
        "\n",
        "Each word in your vocabulary has a unique index assigned to it:\n",
        "- **Indices**: {0, 1, 2, 3}\n",
        "\n",
        "When using an embedding layer, you will initialize random continuous vectors for each index. For instance, the embedding vectors might look like:\n",
        "\n",
        "- Vector for index 0 (apple): [0.2, 0.8]\n",
        "- Vector for index 1 (banana): [0.6, -0.5]\n",
        "- Vector for index 2 (orange): [-0.3, 0.7]\n",
        "- Vector for index 3 (pear): [0.1, 0.4]\n",
        "In PyTorch, you can create an embedding layer.\n"
      ]
    },
    {
      "cell_type": "code",
      "execution_count": null,
      "metadata": {
        "tags": [],
        "id": "H2MyxUraVMmG"
      },
      "outputs": [],
      "source": [
        "embedding_dim=20\n",
        "vocab_size=len(vocab)\n",
        "embeddings = nn.Embedding(vocab_size, embedding_dim)"
      ]
    },
    {
      "cell_type": "markdown",
      "metadata": {
        "id": "b4LYSLm-VMmG"
      },
      "source": [
        "**Embeddings**: Obtain the embedding for the first word with index 0 or 1. Don't forget that you have to convert the input into a tensor. The embeddings are initially initialized randomly, but as the model undergoes training, words with similar meanings gradually come to cluster closer together\n"
      ]
    },
    {
      "cell_type": "code",
      "execution_count": null,
      "metadata": {
        "tags": [],
        "id": "gcbjyX5CVMmG",
        "outputId": "7c1e279c-a41c-4024-f0b1-f272ffae663f"
      },
      "outputs": [
        {
          "name": "stdout",
          "output_type": "stream",
          "text": [
            "word <unk>\n",
            "index 0\n",
            "embedding tensor([ 0.1371,  0.8463,  0.4220, -0.2560,  0.5179,  0.1344, -0.5266, -1.0692,\n",
            "        -0.9370,  0.8597,  1.4029, -0.2881,  0.6349, -0.7426, -0.4343,  0.0785,\n",
            "         0.2217, -1.8225,  0.3814, -1.7867], grad_fn=<EmbeddingBackward0>)\n",
            "embedding shape torch.Size([20])\n",
            "word gonna\n",
            "index 1\n",
            "embedding tensor([-0.4395, -2.4949,  1.8325,  0.2162, -1.1488,  1.1279,  0.6407,  1.6136,\n",
            "         0.1500,  0.6644, -1.5666, -0.4020, -0.3207,  0.0725,  0.1360,  0.5097,\n",
            "        -0.2791,  0.4168, -0.4171,  1.1048], grad_fn=<EmbeddingBackward0>)\n",
            "embedding shape torch.Size([20])\n"
          ]
        }
      ],
      "source": [
        "for n in range(2):\n",
        "    embedding=embeddings(torch.tensor(n))\n",
        "    print(\"word\",index_to_token[n])\n",
        "    print(\"index\",n)\n",
        "    print( \"embedding\", embedding)\n",
        "    print(\"embedding shape\", embedding.shape)"
      ]
    },
    {
      "cell_type": "markdown",
      "metadata": {
        "id": "vTZZnYEgVMmG"
      },
      "source": [
        "These vectors will serve as inputs for the next layer.\n"
      ]
    },
    {
      "cell_type": "markdown",
      "metadata": {
        "id": "MxRAIwTKVMmG"
      },
      "source": [
        "### Generating context-target pairs (n-grams)\n",
        "\n",
        "Organize words within a variable-size context using the following approach: Each word is denoted by 'i'.\n",
        "To establish the context, simply subtract 'j'. The size of the context is determined by the value of``CONTEXT_SIZE``.\n"
      ]
    },
    {
      "cell_type": "code",
      "execution_count": null,
      "metadata": {
        "tags": [],
        "id": "t-iKoloEVMmG"
      },
      "outputs": [],
      "source": [
        "CONTEXT_SIZE=2\n",
        "\n",
        "ngrams = [\n",
        "    (\n",
        "        [tokens[i - j - 1] for j in range(CONTEXT_SIZE)],\n",
        "        tokens[i]\n",
        "    )\n",
        "    for i in range(CONTEXT_SIZE, len(tokens))\n",
        "]"
      ]
    },
    {
      "cell_type": "markdown",
      "metadata": {
        "id": "ZAijwpqlVMmG"
      },
      "source": [
        "Output the first element, which results in a tuple. The initial element represents the context, and the index indicates the following word.\n"
      ]
    },
    {
      "cell_type": "code",
      "execution_count": null,
      "metadata": {
        "tags": [],
        "id": "24Yd_Ep8VMmH",
        "outputId": "01a0c9f9-c1d2-4222-c270-427d8d80d4b8"
      },
      "outputs": [
        {
          "name": "stdout",
          "output_type": "stream",
          "text": [
            "context ['are', 'we'] target no\n",
            "context index [58, 21] target index [70]\n"
          ]
        }
      ],
      "source": [
        "context, target=ngrams[0]\n",
        "print(\"context\",context,\"target\",target)\n",
        "print(\"context index\",vocab(context),\"target index\",vocab([target]))"
      ]
    },
    {
      "cell_type": "markdown",
      "metadata": {
        "id": "SZc8zfakVMmH"
      },
      "source": [
        "In this context, there are multiple words. Aggregate the embeddings of each of these words and then adjust the input size of the subsequent layer accordingly. Then, create the next layer.\n"
      ]
    },
    {
      "cell_type": "code",
      "execution_count": null,
      "metadata": {
        "tags": [],
        "id": "piK4RdrWVMmH"
      },
      "outputs": [],
      "source": [
        "linear = nn.Linear(embedding_dim*CONTEXT_SIZE,128)"
      ]
    },
    {
      "cell_type": "markdown",
      "metadata": {
        "id": "FwOpmahOVMmH"
      },
      "source": [
        "You have the two embeddings.\n"
      ]
    },
    {
      "cell_type": "code",
      "execution_count": null,
      "metadata": {
        "tags": [],
        "id": "wK3q0f_qVMmH",
        "outputId": "6632f496-6a3a-431d-ab3e-bf8518c56948"
      },
      "outputs": [
        {
          "data": {
            "text/plain": [
              "torch.Size([2, 20])"
            ]
          },
          "execution_count": 43,
          "metadata": {},
          "output_type": "execute_result"
        }
      ],
      "source": [
        "my_embeddings=embeddings(torch.tensor(vocab(context)))\n",
        "my_embeddings.shape"
      ]
    },
    {
      "cell_type": "markdown",
      "metadata": {
        "id": "rpUmyiC4VMmH"
      },
      "source": [
        "Reshape the embeddings.\n"
      ]
    },
    {
      "cell_type": "code",
      "execution_count": null,
      "metadata": {
        "tags": [],
        "id": "PIadjVCxVMmH",
        "outputId": "5753e967-86c0-4975-9739-75065a28048b"
      },
      "outputs": [
        {
          "data": {
            "text/plain": [
              "torch.Size([1, 40])"
            ]
          },
          "execution_count": 44,
          "metadata": {},
          "output_type": "execute_result"
        }
      ],
      "source": [
        "my_embeddings=my_embeddings.reshape(1,-1)\n",
        "my_embeddings.shape"
      ]
    },
    {
      "cell_type": "markdown",
      "metadata": {
        "id": "ioSrnH5OVMmH"
      },
      "source": [
        "They can now be used as inputs in the next layer.\n"
      ]
    },
    {
      "cell_type": "code",
      "execution_count": null,
      "metadata": {
        "tags": [],
        "id": "Xg5Zgtm0VMmH",
        "outputId": "63b725fb-0627-4031-cafc-3470006cc1be"
      },
      "outputs": [
        {
          "data": {
            "text/plain": [
              "tensor([[-0.3421, -1.0907,  0.3456, -0.6491,  0.6173,  1.3409, -0.1072,  0.3226,\n",
              "          0.4980, -0.2287,  0.1754,  0.0500,  0.8448, -0.8385, -0.5025, -0.4187,\n",
              "          0.4035, -1.1695, -0.5467,  0.6092,  0.4834, -0.2523, -0.3836, -1.2638,\n",
              "         -1.3019,  0.2199, -0.5393, -0.5476, -0.8354,  0.5427, -0.4793, -0.6011,\n",
              "          1.5391, -0.0230,  0.7366,  0.3490,  0.3034,  0.1663, -0.7548,  0.1102,\n",
              "          0.2408, -0.6202,  1.3952,  0.3504,  0.7810,  0.1680,  0.9464,  0.2373,\n",
              "          0.3364, -0.9774, -0.4223, -0.5237, -1.0061,  1.2535, -0.2106,  1.6419,\n",
              "          1.5453, -0.3606, -0.4676, -0.2402,  0.0408, -0.8992, -0.5088, -0.6806,\n",
              "         -1.5925, -0.6697,  0.2723, -0.6984, -0.6065, -1.0241, -1.1849,  0.5623,\n",
              "         -0.6950, -0.2735,  0.4924,  0.4611,  0.2510,  0.5990,  1.4845,  0.1143,\n",
              "          0.2923,  0.7841,  1.4080,  0.6997,  0.7646, -0.1851,  0.2115,  0.9279,\n",
              "         -1.0768, -0.8959,  0.2104, -0.6564,  0.2031, -0.4530, -0.0928,  0.3048,\n",
              "          0.2246,  0.5516,  0.0728,  0.8517, -0.1507, -1.6110,  0.6645, -0.3014,\n",
              "         -0.2315, -1.0952, -0.5125,  0.3654,  1.2126,  0.2424, -0.8365, -0.2752,\n",
              "          0.2596, -0.0995,  0.4490, -0.6028,  0.1468,  0.1974, -0.8333, -0.6287,\n",
              "         -0.7091,  0.8938, -0.3077, -1.0602, -0.7253,  0.1666, -0.0661,  1.3864]],\n",
              "       grad_fn=<AddmmBackward0>)"
            ]
          },
          "execution_count": 45,
          "metadata": {},
          "output_type": "execute_result"
        }
      ],
      "source": [
        "linear(my_embeddings)"
      ]
    },
    {
      "cell_type": "markdown",
      "metadata": {
        "id": "hJ-yBqfTVMmH"
      },
      "source": [
        "## Batch function\n",
        "\n",
        "Create a Batch function to interface with the data loader. Several adjustments are necessary to handle words that are part of a context in one batch and a predicted word in the following batch.\n"
      ]
    },
    {
      "cell_type": "code",
      "execution_count": null,
      "metadata": {
        "tags": [],
        "id": "Xec_AHyFVMmI"
      },
      "outputs": [],
      "source": [
        "from torch.utils.data import DataLoader\n",
        "\n",
        "device = torch.device(\"cuda\" if torch.cuda.is_available() else \"cpu\")\n",
        "CONTEXT_SIZE=3\n",
        "BATCH_SIZE=10\n",
        "EMBEDDING_DIM = 10\n",
        "\n",
        "def collate_batch(batch):\n",
        "    batch_size=len(batch)\n",
        "    context, target=[],[]\n",
        "    for i in range(CONTEXT_SIZE,batch_size):\n",
        "        target.append(vocab([batch[i]]))\n",
        "        context.append(vocab([batch[i-j-1] for j in range(CONTEXT_SIZE)]))\n",
        "\n",
        "    return   torch.tensor(context).to(device),  torch.tensor(target).to(device).reshape(-1)"
      ]
    },
    {
      "cell_type": "markdown",
      "metadata": {
        "id": "huasnA7LVMmI"
      },
      "source": [
        "Similarly, it's important to highlight that the size of the last batch could deviate from that of the earlier batches. To tackle this, the approach involves adjusting the final batch to conform to the specified batch size, ensuring it becomes a multiple of the predetermined size. When necessary, you'll employ padding techniques to achieve this harmonization. One approach you'll use is appending the beginning of the song to the end of the batch.\n"
      ]
    },
    {
      "cell_type": "code",
      "execution_count": null,
      "metadata": {
        "tags": [],
        "id": "pNa0cgqHVMmI"
      },
      "outputs": [],
      "source": [
        "Padding=BATCH_SIZE-len(tokens)%BATCH_SIZE\n",
        "tokens_pad=tokens+tokens[0:Padding]\n"
      ]
    },
    {
      "cell_type": "markdown",
      "metadata": {
        "id": "FUedcNOBVMmI"
      },
      "source": [
        "Create the`DataLoader`.\n"
      ]
    },
    {
      "cell_type": "code",
      "execution_count": null,
      "metadata": {
        "tags": [],
        "id": "KAH6cPIAVMmI"
      },
      "outputs": [],
      "source": [
        "dataloader = DataLoader(\n",
        "     tokens_pad, batch_size=BATCH_SIZE, shuffle=False, collate_fn=collate_batch\n",
        ")"
      ]
    },
    {
      "cell_type": "markdown",
      "metadata": {
        "id": "vgG_61rgVMmI"
      },
      "source": [
        "## Multi-class neural network\n",
        "\n",
        "You have developed a PyTorch class for a multi-class neural network. The network's output is the probability of the next word within a given context. Therefore, the number of classes corresponds to the count of distinct words. The initial layer consists of embeddings, and in addition to the final layer, an extra hidden layer is incorporated.\n"
      ]
    },
    {
      "cell_type": "code",
      "execution_count": null,
      "metadata": {
        "tags": [],
        "id": "VtUeCBRMVMmI"
      },
      "outputs": [],
      "source": [
        "class NGramLanguageModeler(nn.Module):\n",
        "\n",
        "    def __init__(self, vocab_size, embedding_dim, context_size):\n",
        "        super(NGramLanguageModeler, self).__init__()\n",
        "        self.context_size=context_size\n",
        "        self.embedding_dim=embedding_dim\n",
        "        self.embeddings = nn.Embedding(vocab_size, embedding_dim)\n",
        "        self.linear1 = nn.Linear(context_size * embedding_dim, 128)\n",
        "        self.linear2 = nn.Linear(128, vocab_size)\n",
        "\n",
        "    def forward(self, inputs):\n",
        "        embeds = self.embeddings(inputs)\n",
        "        embeds=torch.reshape( embeds, (-1,self.context_size * self.embedding_dim))\n",
        "        out = F.relu(self.linear1(embeds))\n",
        "        out = self.linear2(out)\n",
        "\n",
        "        return out"
      ]
    },
    {
      "cell_type": "markdown",
      "metadata": {
        "id": "yvH9zmcbVMmI"
      },
      "source": [
        "Create a model.\n"
      ]
    },
    {
      "cell_type": "code",
      "execution_count": null,
      "metadata": {
        "tags": [],
        "id": "3KgKI1_jVMmI"
      },
      "outputs": [],
      "source": [
        "model = NGramLanguageModeler(len(vocab), EMBEDDING_DIM, CONTEXT_SIZE).to(device)"
      ]
    },
    {
      "cell_type": "markdown",
      "metadata": {
        "id": "0nKSkQj6VMmI"
      },
      "source": [
        "Retrieve samples from the data loader object and input them into the neural network.\n"
      ]
    },
    {
      "cell_type": "code",
      "execution_count": null,
      "metadata": {
        "tags": [],
        "id": "vuL9OVreVMmI"
      },
      "outputs": [],
      "source": [
        "context, target=next(iter(dataloader))\n",
        "out=model(context)"
      ]
    },
    {
      "cell_type": "markdown",
      "metadata": {
        "id": "PJh3Gge0VMmJ"
      },
      "source": [
        "While the model remains untrained, analyzing the output can provide us with a clearer understanding. In the output, the first dimension corresponds to the batch size, while the second dimension represents the probability associated with each class.\n"
      ]
    },
    {
      "cell_type": "code",
      "execution_count": null,
      "metadata": {
        "tags": [],
        "id": "48VNLDXmVMmJ",
        "outputId": "d9af453c-4e94-4c02-e02a-331ac9a3ebde"
      },
      "outputs": [
        {
          "data": {
            "text/plain": [
              "torch.Size([7, 79])"
            ]
          },
          "execution_count": 52,
          "metadata": {},
          "output_type": "execute_result"
        }
      ],
      "source": [
        "out.shape"
      ]
    },
    {
      "cell_type": "markdown",
      "metadata": {
        "id": "DcqR866PVMmJ"
      },
      "source": [
        "Find the index with the highest probability.\n"
      ]
    },
    {
      "cell_type": "code",
      "execution_count": null,
      "metadata": {
        "tags": [],
        "id": "UAX_az2QVMmJ",
        "outputId": "b6da2a9c-457a-48b9-ecca-89e9d413d647"
      },
      "outputs": [
        {
          "data": {
            "text/plain": [
              "tensor([73,  4, 70, 26, 43, 33,  6])"
            ]
          },
          "execution_count": 53,
          "metadata": {},
          "output_type": "execute_result"
        }
      ],
      "source": [
        "predicted_index =torch.argmax(out,1)\n",
        "predicted_index"
      ]
    },
    {
      "cell_type": "markdown",
      "metadata": {
        "id": "8R_Lof16VMmJ"
      },
      "source": [
        "Find the corresponding token.\n"
      ]
    },
    {
      "cell_type": "code",
      "execution_count": null,
      "metadata": {
        "tags": [],
        "id": "4ZxraxaXVMmJ",
        "outputId": "3df9b05d-aa88-4d0d-b02c-f3c7a83bbebb"
      },
      "outputs": [
        {
          "data": {
            "text/plain": [
              "['see', 'and', 'no', 'feeling', 'inside', 'youre', 'make']"
            ]
          },
          "execution_count": 54,
          "metadata": {},
          "output_type": "execute_result"
        }
      ],
      "source": [
        "[index_to_token[i.item()] for i in  predicted_index]"
      ]
    },
    {
      "cell_type": "markdown",
      "metadata": {
        "id": "MJd86WbJVMmJ"
      },
      "source": [
        "Create a function that accomplishes the same task for the tokens.\n"
      ]
    },
    {
      "cell_type": "code",
      "execution_count": null,
      "metadata": {
        "tags": [],
        "id": "BtgXGNxdVMmJ"
      },
      "outputs": [],
      "source": [
        "def write_song(model,number_of_words=100):\n",
        "    my_song=\"\"\n",
        "    for i in range(number_of_words):\n",
        "        with torch.no_grad():\n",
        "            context=torch.tensor(vocab([tokens[i-j-1] for j in range(CONTEXT_SIZE)])).to(device)\n",
        "            word_inx=torch.argmax(model(context))\n",
        "            my_song+=\" \"+index_to_token[word_inx.detach().item()]\n",
        "\n",
        "    return my_song"
      ]
    },
    {
      "cell_type": "code",
      "execution_count": null,
      "metadata": {
        "tags": [],
        "id": "cSG8FvC6VMmJ",
        "outputId": "21ea8f35-1b3b-4cd4-9d6a-84357612a33b"
      },
      "outputs": [
        {
          "data": {
            "text/plain": [
              "' im each so see and no feeling inside youre make to hurt each do full gonna dont no goodbye each feeling on how youre so how do each inside im just so how how just it so see youre inside on play no no no feeling it strangers no do get make play no no feeling youre so strangers so no me on play no you make no a strangers of strangers full no each im each dont it so been youre shy how how me youre feeling each feeling any see make you no youre know feeling we hearts'"
            ]
          },
          "execution_count": 56,
          "metadata": {},
          "output_type": "execute_result"
        }
      ],
      "source": [
        "write_song(model)"
      ]
    },
    {
      "cell_type": "markdown",
      "metadata": {
        "id": "G1qBAbNWVMmK"
      },
      "source": [
        "## Training\n",
        "\n",
        "Training a language model involves a multi-step process that leverages training and testing data to optimize model performance. In the realm of Natural Language Processing (NLP), this process often employs various metrics to gauge a model's accuracy, such as perplexity or accuracy on unseen data. However, in the context of your current exploration, you will embark on a slightly different journey. Instead of relying solely on conventional NLP metrics, the focus shifts to manual inspection of the results.\n",
        "\n",
        "You have the cross entropy loss between input logits and target:\n"
      ]
    },
    {
      "cell_type": "code",
      "execution_count": null,
      "metadata": {
        "tags": [],
        "id": "MO0eaq9fVMmK"
      },
      "outputs": [],
      "source": [
        "criterion = torch.nn.CrossEntropyLoss()"
      ]
    },
    {
      "cell_type": "markdown",
      "metadata": {
        "id": "KqLrMTt4VMmK"
      },
      "source": [
        "You have developed a function dedicated to training the model using the supplied data loader. In addition to training the model, the function's output includes predictions for each epoch, spanning context for the next 100 words.\n"
      ]
    },
    {
      "cell_type": "code",
      "execution_count": null,
      "metadata": {
        "tags": [],
        "id": "uRTIx5FVVMmK"
      },
      "outputs": [],
      "source": [
        "def train(dataloader, model, number_of_epochs=100, show=10):\n",
        "    \"\"\"\n",
        "    Args:\n",
        "        dataloader (DataLoader): DataLoader containing training data.\n",
        "        model (nn.Module): Neural network model to be trained.\n",
        "        number_of_epochs (int, optional): Number of epochs for training. Default is 100.\n",
        "        show (int, optional): Interval for displaying progress. Default is 10.\n",
        "\n",
        "    Returns:\n",
        "        list: List containing loss values for each epoch.\n",
        "    \"\"\"\n",
        "\n",
        "    MY_LOSS = []  # List to store loss values for each epoch\n",
        "\n",
        "    # Iterate over the specified number of epochs\n",
        "    for epoch in tqdm(range(number_of_epochs)):\n",
        "        total_loss = 0  # Initialize total loss for the current epoch\n",
        "        my_song = \"\"    # Initialize a string to store the generated song\n",
        "\n",
        "        # Iterate over batches in the dataloader\n",
        "        for context, target in dataloader:\n",
        "            model.zero_grad()          # Zero the gradients to avoid accumulation\n",
        "            predicted = model(context)  # Forward pass through the model to get predictions\n",
        "            loss = criterion(predicted, target.reshape(-1))  # Calculate the loss\n",
        "            total_loss += loss.item()   # Accumulate the loss\n",
        "\n",
        "            loss.backward()    # Backpropagation to compute gradients\n",
        "            optimizer.step()   # Update model parameters using the optimizer\n",
        "\n",
        "        # Display progress and generate song at specified intervals\n",
        "        if epoch % show == 0:\n",
        "            my_song += write_song(model)  # Generate song using the model\n",
        "\n",
        "            print(\"Generated Song:\")\n",
        "            print(\"\\n\")\n",
        "            print(my_song)\n",
        "\n",
        "        MY_LOSS.append(total_loss/len(dataloader))  # Append the total loss for the epoch to MY_LOSS list\n",
        "\n",
        "    return MY_LOSS  # Return the list of  mean loss values for each epoch"
      ]
    },
    {
      "cell_type": "markdown",
      "metadata": {
        "id": "pVNICwMMVMmK"
      },
      "source": [
        "The following list will be used to store the loss for each model.\n"
      ]
    },
    {
      "cell_type": "code",
      "execution_count": null,
      "metadata": {
        "tags": [],
        "id": "O3Rj-EhAVMmK"
      },
      "outputs": [],
      "source": [
        "my_loss_list=[]"
      ]
    },
    {
      "cell_type": "markdown",
      "metadata": {
        "id": "TiNahOQIVMmK"
      },
      "source": [
        "This code segment initializes an n-gram language model with a context size of 2. The model, named `model_2`, is configured based on the provided vocabulary size, embedding dimension, and context size. The Stochastic Gradient Descent (SGD) optimizer is employed with a learning rate of 0.01 to manage model parameter updates. A learning rate scheduler, using a step-wise approach with a reduction factor of 0.1 per epoch, is set up to adapt the learning rate during the training process. These settings collectively establish the framework for training the n-gram language model with tailored optimization and learning rate adjustment.\n"
      ]
    },
    {
      "cell_type": "code",
      "execution_count": null,
      "metadata": {
        "tags": [],
        "id": "FPaOqvaaVMmK"
      },
      "outputs": [],
      "source": [
        "# Define the context size for the n-gram model\n",
        "CONTEXT_SIZE = 2\n",
        "\n",
        "# Create an instance of the NGramLanguageModeler class with specified parameters\n",
        "model_2 = NGramLanguageModeler(len(vocab), EMBEDDING_DIM, CONTEXT_SIZE).to(device)\n",
        "\n",
        "# Define the optimizer for training the model, using stochastic gradient descent (SGD)\n",
        "optimizer = optim.SGD(model_2.parameters(), lr=0.01)\n",
        "\n",
        "# Set up a learning rate scheduler using StepLR to adjust the learning rate during training\n",
        "scheduler = torch.optim.lr_scheduler.StepLR(optimizer, step_size=1.0, gamma=0.1)"
      ]
    },
    {
      "cell_type": "markdown",
      "metadata": {
        "id": "8y0Cl3mnVMmK"
      },
      "source": [
        "Now, you will train the model.\n"
      ]
    },
    {
      "cell_type": "code",
      "execution_count": null,
      "metadata": {
        "tags": [],
        "id": "vInSQtcUVMmL",
        "outputId": "d7b283f7-8ed4-4941-dbd5-6fb07d384fb5"
      },
      "outputs": [
        {
          "name": "stderr",
          "output_type": "stream",
          "text": [
            "  2%|▏         | 2/100 [00:00<00:13,  7.36it/s]"
          ]
        },
        {
          "name": "stdout",
          "output_type": "stream",
          "text": [
            "Generated Song:\n",
            "\n",
            "\n",
            " you gonna gonna you weve no let no gonna the gotta you know to you each around you no you know let you each you around gonna around for never and get you no you gonna were gonna weve around you you gonna let so gonna around gonna let so you gonna gonna let you no you no you gonna let you you gonna gonna let gonna never gonna let no you around for no you you gonna you you but you you let you get no gonna were never too going gonna you each gonna how the you were\n"
          ]
        },
        {
          "name": "stderr",
          "output_type": "stream",
          "text": [
            " 12%|█▏        | 12/100 [00:01<00:12,  7.29it/s]"
          ]
        },
        {
          "name": "stdout",
          "output_type": "stream",
          "text": [
            "Generated Song:\n",
            "\n",
            "\n",
            " never never you never you never let you never never you never you you never never you you you never never gonna never never never never never gonna never never you you never gonna never never never gonna make never never never gonna let you never never gonna let you never never gonna let you and never you never gonna let you never gonna gonna let you never gonna let you never and hurt you never never gonna never never never gonna you you you you you gonna never never you never gonna never you never you you never you\n"
          ]
        },
        {
          "name": "stderr",
          "output_type": "stream",
          "text": [
            " 22%|██▏       | 22/100 [00:02<00:09,  8.44it/s]"
          ]
        },
        {
          "name": "stdout",
          "output_type": "stream",
          "text": [
            "Generated Song:\n",
            "\n",
            "\n",
            " never never you never and never let never never never and hurt you you never and and you you never never gonna never and and never never gonna never never and you never you never never never gonna make never never never gonna tell you never never gonna tell you never never gonna tell around and desert you never gonna tell you never never gonna tell goodbye never gonna tell you never and hurt you never never never never never never tell and you you tell never gonna never never you never never never and never you you never you\n"
          ]
        },
        {
          "name": "stderr",
          "output_type": "stream",
          "text": [
            " 33%|███▎      | 33/100 [00:04<00:07,  9.01it/s]"
          ]
        },
        {
          "name": "stdout",
          "output_type": "stream",
          "text": [
            "Generated Song:\n",
            "\n",
            "\n",
            " never never you never you never tell never never game and hurt you you never and and you you never never you never and and and and gonna too never and you never you never never never gonna make never never never gonna tell you never never gonna tell you down never gonna tell around and desert you never gonna tell you never never gonna tell goodbye never gonna tell you lie and hurt you never never each other never never tell and you been aching never gonna too never you never never never and never you you never you\n"
          ]
        },
        {
          "name": "stderr",
          "output_type": "stream",
          "text": [
            " 41%|████      | 41/100 [00:05<00:07,  8.28it/s]"
          ]
        },
        {
          "name": "stdout",
          "output_type": "stream",
          "text": [
            "Generated Song:\n",
            "\n",
            "\n",
            " never never no tell to never you never never game and hurt you you never lie and you you down never you never and and and and and too never and you cry you never never feeling gonna make never never never gonna tell you up never gonna tell you down never gonna tell around and desert you never gonna tell you never never gonna tell goodbye never gonna tell a lie and hurt you never never each other for never tell and hearts been aching but gonna too never to too never inside and both you you never going\n"
          ]
        },
        {
          "name": "stderr",
          "output_type": "stream",
          "text": [
            " 53%|█████▎    | 53/100 [00:06<00:05,  8.63it/s]"
          ]
        },
        {
          "name": "stdout",
          "output_type": "stream",
          "text": [
            "Generated Song:\n",
            "\n",
            "\n",
            " never never no strangers to love you never never game and hurt you it never lie and aching you down never you never and and and and and too never and you cry you never im feeling gotta make you cry never gonna tell you up never gonna tell you down never gonna tell around and desert you never gonna tell you cry never gonna tell goodbye never gonna tell a lie and hurt you never you each other for never tell and hearts been aching but youre too shy to too never inside we both you the been going\n"
          ]
        },
        {
          "name": "stderr",
          "output_type": "stream",
          "text": [
            " 62%|██████▏   | 62/100 [00:07<00:04,  7.79it/s]"
          ]
        },
        {
          "name": "stdout",
          "output_type": "stream",
          "text": [
            "Generated Song:\n",
            "\n",
            "\n",
            " never never no strangers to love you never never game and hurt gonna it never lie and aching you down never you never and and and and been too never gonna you tell you how im feeling gotta make you cry never gonna tell you up never gonna tell you down never gonna tell around and desert you never gonna tell you cry never gonna tell goodbye never gonna tell a lie and hurt you never known each other for never tell and hearts been aching but youre too shy to too never inside we both know the been going\n"
          ]
        },
        {
          "name": "stderr",
          "output_type": "stream",
          "text": [
            " 71%|███████   | 71/100 [00:09<00:04,  6.31it/s]"
          ]
        },
        {
          "name": "stdout",
          "output_type": "stream",
          "text": [
            "Generated Song:\n",
            "\n",
            "\n",
            " never never no strangers to love you never the game and know gonna it tell lie and what you down never you never and and and and other too never gonna you tell you how im feeling gotta make you cry never gonna tell you up never gonna tell you down never gonna tell around and desert you never gonna tell you cry never gonna tell goodbye never gonna tell a lie and hurt you never known each other for never tell it hearts been aching but youre too shy to been it inside we both know the been going\n"
          ]
        },
        {
          "name": "stderr",
          "output_type": "stream",
          "text": [
            " 82%|████████▏ | 82/100 [00:10<00:02,  7.40it/s]"
          ]
        },
        {
          "name": "stdout",
          "output_type": "stream",
          "text": [
            "Generated Song:\n",
            "\n",
            "\n",
            " never never no strangers to love you never the game and know do it tell lie and what you down never you how and and i and other too i gonna you tell you how im feeling gotta make you cry known gonna tell you up never gonna tell you down never gonna tell around and desert you never gonna tell you cry never gonna tell goodbye never gonna tell a lie and hurt you never known each other for never do it hearts been aching but youre too shy to been it inside we both know the been going\n"
          ]
        },
        {
          "name": "stderr",
          "output_type": "stream",
          "text": [
            " 92%|█████████▏| 92/100 [00:11<00:01,  7.46it/s]"
          ]
        },
        {
          "name": "stdout",
          "output_type": "stream",
          "text": [
            "Generated Song:\n",
            "\n",
            "\n",
            " never never no strangers to love you never the game and know do i tell lie and what im down never you how get this i and other too i gonna you tell you how im feeling gotta make you cry known gonna tell you up never gonna tell you down never gonna tell around and desert you never gonna tell you cry never gonna tell goodbye never gonna tell a lie and hurt you never known each other for never do your hearts been aching but youre too shy to been it inside we both know whats been going\n"
          ]
        },
        {
          "name": "stderr",
          "output_type": "stream",
          "text": [
            "100%|██████████| 100/100 [00:12<00:00,  7.82it/s]\n"
          ]
        }
      ],
      "source": [
        "my_loss=train(dataloader,model_2)"
      ]
    },
    {
      "cell_type": "markdown",
      "metadata": {
        "id": "3V955IqLVMmL"
      },
      "source": [
        "Save the model.\n"
      ]
    },
    {
      "cell_type": "code",
      "execution_count": null,
      "metadata": {
        "tags": [],
        "id": "JvKLys96VMmL"
      },
      "outputs": [],
      "source": [
        "save_path = '2gram.pth'\n",
        "torch.save(model_2.state_dict(), save_path)\n",
        "my_loss_list.append(my_loss)"
      ]
    },
    {
      "cell_type": "markdown",
      "metadata": {
        "id": "GQB46LEjVMmL"
      },
      "source": [
        "The code provided below shows word embeddings from the created model, reduces their dimensionality to 2D using t-SNE, and then plots them as a scatter plot. Additionally, it annotates the first 20 points in the visualization with their corresponding words. This is used to visualize how similar words cluster together in a lower-dimensional space, revealing the structure of the word embeddings. Embeddings allow the model to represent words in a continuous vector space, capturing semantic relationships and similarities between words.\n"
      ]
    },
    {
      "cell_type": "code",
      "execution_count": null,
      "metadata": {
        "tags": [],
        "id": "Qtp6NtaRVMmL",
        "outputId": "73d1eee3-7715-4de9-b625-eed1ec773945"
      },
      "outputs": [
        {
          "data": {
            "image/png": "[encoded data removed]",
            "text/plain": [
              "<Figure size 640x480 with 1 Axes>"
            ]
          },
          "metadata": {},
          "output_type": "display_data"
        }
      ],
      "source": [
        "X = model_2.embeddings.weight.cpu().detach().numpy()\n",
        "tsne = TSNE(n_components=2, random_state=42)\n",
        "X_2d = tsne.fit_transform(X)\n",
        "\n",
        "labels = []\n",
        "\n",
        "for j in range(len(X_2d)):\n",
        "    if j < 20:\n",
        "        plt.scatter(X_2d[j, 0], X_2d[j, 1], label=index_to_token[j])\n",
        "        labels.append(index_to_token[j])\n",
        "        # Add words as annotations\n",
        "        plt.annotate(index_to_token[j],\n",
        "                     (X_2d[j, 0], X_2d[j, 1]),\n",
        "                     textcoords=\"offset points\",\n",
        "                     xytext=(0, 10),\n",
        "                     ha='center')\n",
        "    else:\n",
        "        plt.scatter(X_2d[j, 0], X_2d[j, 1])\n",
        "\n",
        "plt.legend(labels, loc='upper left', bbox_to_anchor=(1, 1))\n",
        "plt.show()"
      ]
    },
    {
      "cell_type": "markdown",
      "metadata": {
        "id": "J0rS0tLkVMmL"
      },
      "source": [
        "Repeat the process for a context of four.\n"
      ]
    },
    {
      "cell_type": "code",
      "execution_count": null,
      "metadata": {
        "tags": [],
        "id": "L2NeX_PgVMmL",
        "outputId": "d504dcdb-14f0-4844-b6a8-062267d59218"
      },
      "outputs": [
        {
          "name": "stderr",
          "output_type": "stream",
          "text": [
            "  3%|▎         | 3/100 [00:00<00:11,  8.42it/s]"
          ]
        },
        {
          "name": "stdout",
          "output_type": "stream",
          "text": [
            "Generated Song:\n",
            "\n",
            "\n",
            " down gonna see full you blind the just lie guy cry youre to full blind blind ask ask for gonna no <unk> blind around gonna wouldnt full see to let blind if rules gonna youre wouldnt both full weve the hearts goodbye both full blind full going me gotta lie full wouldnt both full tell full goodbye the the gonna both wouldnt rules full both lie around me give lie no me known if no down around inside full full if cry gonna goodbye goodbye the full if me other both gonna around full gonna do no full run to\n"
          ]
        },
        {
          "name": "stderr",
          "output_type": "stream",
          "text": [
            " 12%|█▏        | 12/100 [00:01<00:10,  8.24it/s]"
          ]
        },
        {
          "name": "stdout",
          "output_type": "stream",
          "text": [
            "Generated Song:\n",
            "\n",
            "\n",
            " never gonna gonna never gonna you you you gonna never you never gonna never never gonna you you you gonna you you never gonna gonna you never gonna you never never gonna never gonna never gonna gonna you you you never never gonna never you never never gonna never you never never gonna never gonna and never you never gonna gonna you never never gonna you you never gonna tell you you never you you never gonna never you you never gonna gonna never gonna you you never gonna never gonna you you never gonna gonna gonna never never gonna\n"
          ]
        },
        {
          "name": "stderr",
          "output_type": "stream",
          "text": [
            " 22%|██▏       | 22/100 [00:02<00:08,  8.69it/s]"
          ]
        },
        {
          "name": "stdout",
          "output_type": "stream",
          "text": [
            "Generated Song:\n",
            "\n",
            "\n",
            " never gonna gonna never gonna tell you you never never you never gonna never never gonna commitments and you gonna you you never gonna gonna you never gonna make never never gonna never you never you gonna you make you you never gonna let you up never gonna let you down never gonna never around and desert you never gonna make you never never gonna say goodbye never gonna tell you lie and and you never gonna never say you never gonna gonna never and you you never you never never you around never you you gonna you never gonna\n"
          ]
        },
        {
          "name": "stderr",
          "output_type": "stream",
          "text": [
            " 32%|███▏      | 32/100 [00:03<00:08,  8.44it/s]"
          ]
        },
        {
          "name": "stdout",
          "output_type": "stream",
          "text": [
            "Generated Song:\n",
            "\n",
            "\n",
            " never never make never to love you know never never you never gonna never a and commitments and im you make you down gonna gonna you never gonna make never never gonna never you how im gonna gotta make you you never gonna let you up never gonna let you down never gonna let around and desert you never gonna make you up never gonna say goodbye never gonna tell a lie and hurt you never gonna never say for say gonna gonna never going aching but youre you shy and you goodbye never you you know whats and going\n"
          ]
        },
        {
          "name": "stderr",
          "output_type": "stream",
          "text": [
            " 42%|████▏     | 42/100 [00:05<00:07,  7.76it/s]"
          ]
        },
        {
          "name": "stdout",
          "output_type": "stream",
          "text": [
            "Generated Song:\n",
            "\n",
            "\n",
            " never known know gotta to love you know never never you were gonna never a full commitments and im you make you down gonna gonna you never gonna make never never gonna never a how im feeling gotta make you you never gonna let you up never gonna let you down never gonna run around and desert you never gonna make you up never gonna say goodbye never gonna tell a lie and hurt you never known each other for other gonna gonna never going aching but youre too shy and tell goodbye and gonna both know whats been going\n"
          ]
        },
        {
          "name": "stderr",
          "output_type": "stream",
          "text": [
            " 51%|█████     | 51/100 [00:06<00:06,  7.57it/s]"
          ]
        },
        {
          "name": "stdout",
          "output_type": "stream",
          "text": [
            "Generated Song:\n",
            "\n",
            "\n",
            " never known feeling gotta to love you know never never and were gonna never a full commitments and im you make you down gonna gonna you never other make never never gonna gotta a how im feeling gotta make you cry never gonna let you up never gonna let you down never gonna run around and desert you never gonna make you cry never gonna say goodbye never gonna tell a lie and hurt you never known each other for other gonna gonna never going aching but youre too shy to tell goodbye and gonna both know whats been going\n"
          ]
        },
        {
          "name": "stderr",
          "output_type": "stream",
          "text": [
            " 62%|██████▏   | 62/100 [00:07<00:05,  7.55it/s]"
          ]
        },
        {
          "name": "stdout",
          "output_type": "stream",
          "text": [
            "Generated Song:\n",
            "\n",
            "\n",
            " never known no strangers to love you know never never and were gonna never a full commitments what im thinking make you down gonna how you any other guy never never gonna gotta a how im feeling gotta make you cry never gonna let you up never gonna let you down never gonna run around and desert you never gonna make you cry never gonna say goodbye never gonna tell a lie and hurt you never known each other for so never gonna never been aching but youre too shy to tell goodbye and we both know whats been going\n"
          ]
        },
        {
          "name": "stderr",
          "output_type": "stream",
          "text": [
            " 72%|███████▏  | 72/100 [00:09<00:03,  7.93it/s]"
          ]
        },
        {
          "name": "stdout",
          "output_type": "stream",
          "text": [
            "Generated Song:\n",
            "\n",
            "\n",
            " never are no strangers to love you know the rules and were gonna never a full commitments what im thinking make you down gonna this from any other guy i never gonna gotta to how im feeling gotta make you cry never gonna let you up never gonna let you down never gonna run around and desert you never gonna make you cry never gonna say goodbye never gonna tell a lie and hurt you never known each other for so never gonna never been aching but youre too shy to tell goodbye and we both know whats been going\n"
          ]
        },
        {
          "name": "stderr",
          "output_type": "stream",
          "text": [
            " 83%|████████▎ | 83/100 [00:10<00:01,  8.60it/s]"
          ]
        },
        {
          "name": "stdout",
          "output_type": "stream",
          "text": [
            "Generated Song:\n",
            "\n",
            "\n",
            " never are no strangers to love you know the rules and were gonna never a full commitments what im thinking make you down gonna this from any other guy i never gonna im to how im feeling gotta make you cry never gonna let you up never gonna let you down never gonna run around and desert you never gonna make you cry never gonna say goodbye never gonna tell a lie and hurt you never known each other for so never whats a been aching but youre too shy to tell goodbye and we both know whats been going\n"
          ]
        },
        {
          "name": "stderr",
          "output_type": "stream",
          "text": [
            " 92%|█████████▏| 92/100 [00:11<00:01,  7.66it/s]"
          ]
        },
        {
          "name": "stdout",
          "output_type": "stream",
          "text": [
            "Generated Song:\n",
            "\n",
            "\n",
            " never are no strangers to love you know the rules and were gonna never a full commitments what im thinking make you down gonna this from any other guy i never gonna im to how im feeling gotta make you cry never gonna let you up never gonna let you down never gonna run around and desert you never gonna make you cry never gonna say goodbye never gonna tell a lie and hurt you never known each other for so never whats a been aching but youre too shy to tell goodbye and we both know whats been going\n"
          ]
        },
        {
          "name": "stderr",
          "output_type": "stream",
          "text": [
            "100%|██████████| 100/100 [00:12<00:00,  7.90it/s]\n"
          ]
        }
      ],
      "source": [
        "CONTEXT_SIZE=4\n",
        "model_4 = NGramLanguageModeler(len(vocab), EMBEDDING_DIM, CONTEXT_SIZE).to(device)\n",
        "optimizer = optim.SGD(model_4.parameters(), lr=0.01)\n",
        "scheduler = torch.optim.lr_scheduler.StepLR(optimizer, 1.0, gamma=0.1)\n",
        "my_loss=train(dataloader,model_4 )\n",
        "\n",
        "save_path = '4gram.pth'\n",
        "torch.save(model_4.state_dict(), save_path)\n",
        "\n",
        "my_loss_list.append(my_loss)"
      ]
    },
    {
      "cell_type": "markdown",
      "metadata": {
        "id": "U6j7MTP8VMmL"
      },
      "source": [
        "The code provided below shows word embeddings from the created model, reduces their dimensionality to 2d using t-SNE, and then plots them as a scatter plot. Additionally, it annotates the first 20 points in the visualization with their corresponding words. This is used to visualize how similar words cluster together in a lower-dimensional space, revealing the structure of the word embeddings. Embeddings allow the model to represent words in a continuous vector space, capturing semantic relationships and similarities between words.\n"
      ]
    },
    {
      "cell_type": "code",
      "execution_count": null,
      "metadata": {
        "id": "cpNQMFGgVMmL",
        "outputId": "ab3bd960-dbdf-4922-a47e-c0a8cb436427"
      },
      "outputs": [
        {
          "data": {
            "image/png": "[encoded data removed]",
            "text/plain": [
              "<Figure size 640x480 with 1 Axes>"
            ]
          },
          "metadata": {},
          "output_type": "display_data"
        }
      ],
      "source": [
        "X = model_4.embeddings.weight.cpu().detach().numpy()\n",
        "tsne = TSNE(n_components=2, random_state=42)\n",
        "X_2d = tsne.fit_transform(X)\n",
        "\n",
        "labels = []\n",
        "\n",
        "for j in range(len(X_2d)):\n",
        "    if j < 20:\n",
        "        plt.scatter(X_2d[j, 0], X_2d[j, 1], label=index_to_token[j])\n",
        "        labels.append(index_to_token[j])\n",
        "        # Add words as annotations\n",
        "        plt.annotate(index_to_token[j],\n",
        "                     (X_2d[j, 0], X_2d[j, 1]),\n",
        "                     textcoords=\"offset points\",\n",
        "                     xytext=(0, 10),\n",
        "                     ha='center')\n",
        "    else:\n",
        "        plt.scatter(X_2d[j, 0], X_2d[j, 1])\n",
        "\n",
        "plt.legend(labels, loc='upper left', bbox_to_anchor=(1, 1))\n",
        "plt.show()"
      ]
    },
    {
      "cell_type": "markdown",
      "metadata": {
        "id": "7Mw3s6d6VMmL"
      },
      "source": [
        "Finally, for a context of eight.\n"
      ]
    },
    {
      "cell_type": "code",
      "execution_count": null,
      "metadata": {
        "id": "jzyNI-K3VMmM",
        "outputId": "d1c9aee8-aca6-4e1c-e50e-19a052fd30c9"
      },
      "outputs": [
        {
          "name": "stderr",
          "output_type": "stream",
          "text": [
            "  2%|▏         | 2/100 [00:00<00:11,  8.50it/s]"
          ]
        },
        {
          "name": "stdout",
          "output_type": "stream",
          "text": [
            "Generated Song:\n",
            "\n",
            "\n",
            " you were you you you you you you gonna you guy you you any you you you you you never weve you you gonna im you thinking you see you you inside you you you you you you you you you any you you you you you you lie you you never you guy you any you tell you you you you i you you you you you you tell you you guy you you you you you gonna you you you tell you tell were any tell weve you you you you you thinking were any you you im\n"
          ]
        },
        {
          "name": "stderr",
          "output_type": "stream",
          "text": [
            " 11%|█         | 11/100 [00:01<00:10,  8.77it/s]"
          ]
        },
        {
          "name": "stdout",
          "output_type": "stream",
          "text": [
            "Generated Song:\n",
            "\n",
            "\n",
            " never never you never for you you tell gonna make never you never gonna never you you never im thinking going tell tell gonna shy going you you you you tell you you you never never never you make you gonna tell gonna never you down gonna tell let you down never gonna let around and never tell never gonna make you never never gonna let you down gonna tell a you down gonna you never you you gonna for so you tell you you you gonna tell too shy to you you you never tell never gonna you going\n"
          ]
        },
        {
          "name": "stderr",
          "output_type": "stream",
          "text": [
            " 22%|██▏       | 22/100 [00:02<00:10,  7.62it/s]"
          ]
        },
        {
          "name": "stdout",
          "output_type": "stream",
          "text": [
            "Generated Song:\n",
            "\n",
            "\n",
            " never never you other for love you tell the rules never you never gonna tell you you never im thinking thinking tell tell gonna shy going you you guy i tell you you you never never rules you make you gonna tell gonna say you down gonna tell let you down never gonna run around and never tell never gonna make you i never gonna say you down gonna tell a lie down hurt you never you you other for so you tell you you for gonna tell too shy to tell you you give tell never gonna been going\n"
          ]
        },
        {
          "name": "stderr",
          "output_type": "stream",
          "text": [
            " 32%|███▏      | 32/100 [00:03<00:08,  8.34it/s]"
          ]
        },
        {
          "name": "stdout",
          "output_type": "stream",
          "text": [
            "Generated Song:\n",
            "\n",
            "\n",
            " never never you other for love you i the rules never you never gonna tell you you i im thinking thinking guy tell going shy going thinking you guy i tell dont you you never never rules been make you gonna tell gonna say you down gonna tell let you down never gonna run around and never tell never gonna make you i never gonna say you down gonna tell a lie down hurt you never you you other for so you tell on guy i i tell too shy to tell you you give the rules gonna been going\n"
          ]
        },
        {
          "name": "stderr",
          "output_type": "stream",
          "text": [
            " 42%|████▏     | 42/100 [00:05<00:07,  7.71it/s]"
          ]
        },
        {
          "name": "stdout",
          "output_type": "stream",
          "text": [
            "Generated Song:\n",
            "\n",
            "\n",
            " never never you other for love you i the rules you you never gonna tell you you i im thinking thinking guy tell going shy going thinking you guy i tell dont you you never never rules been make you gonna the gonna say you down gonna tell let you down never i run around and never tell never gonna make you up never gonna say you down gonna tell a lie down hurt you never you you other for so you tell on guy i i tell too shy to tell you you give the rules tell been going\n"
          ]
        },
        {
          "name": "stderr",
          "output_type": "stream",
          "text": [
            " 52%|█████▏    | 52/100 [00:06<00:06,  7.98it/s]"
          ]
        },
        {
          "name": "stdout",
          "output_type": "stream",
          "text": [
            "Generated Song:\n",
            "\n",
            "\n",
            " never never you other for love you i the rules you you never gonna tell you you i im thinking thinking guy tell going i going thinking you guy i tell dont you you never never rules to make you gonna the gonna say you down gonna tell let you down never i run around and never tell never gonna make you up never gonna say you down gonna tell a lie down hurt you never you you other for so you tell on guy i i tell too shy to tell you you give the rules tell been going\n"
          ]
        },
        {
          "name": "stderr",
          "output_type": "stream",
          "text": [
            " 61%|██████    | 61/100 [00:07<00:04,  8.03it/s]"
          ]
        },
        {
          "name": "stdout",
          "output_type": "stream",
          "text": [
            "Generated Song:\n",
            "\n",
            "\n",
            " never never you other for love you i the rules you you never gonna tell you you i im thinking thinking guy tell going i going thinking you guy i tell dont you you never never rules to make you gonna the gonna say you down gonna tell let you down never i run around and never tell never gonna make you up never gonna say you down gonna tell a lie down hurt you never you rules other for so you tell on guy i i tell too shy to tell you you give the rules tell been going\n"
          ]
        },
        {
          "name": "stderr",
          "output_type": "stream",
          "text": [
            " 73%|███████▎  | 73/100 [00:08<00:02,  9.31it/s]"
          ]
        },
        {
          "name": "stdout",
          "output_type": "stream",
          "text": [
            "Generated Song:\n",
            "\n",
            "\n",
            " never never you other for love you i the rules you you never gonna tell you you i im thinking thinking guy tell going i going thinking you guy i tell dont you you never never rules to make you gonna the gonna say you down gonna tell let you down never i run around and never tell never gonna make you up never gonna say you down gonna tell a lie down hurt you never you rules other for so you tell on guy i i tell too shy to tell you you give the rules tell been going\n"
          ]
        },
        {
          "name": "stderr",
          "output_type": "stream",
          "text": [
            " 83%|████████▎ | 83/100 [00:09<00:01,  9.90it/s]"
          ]
        },
        {
          "name": "stdout",
          "output_type": "stream",
          "text": [
            "Generated Song:\n",
            "\n",
            "\n",
            " never never you other for love you i the rules you you never gonna tell you you i im thinking thinking guy tell going i going thinking you guy i tell dont you you never never rules to make you gonna the gonna say you down gonna tell let you down never i run around and never tell never gonna make you up never gonna say you down gonna tell a lie down hurt you never you rules other for so you tell on guy i i tell too shy to tell you you give the rules tell been going\n"
          ]
        },
        {
          "name": "stderr",
          "output_type": "stream",
          "text": [
            " 92%|█████████▏| 92/100 [00:11<00:01,  7.37it/s]"
          ]
        },
        {
          "name": "stdout",
          "output_type": "stream",
          "text": [
            "Generated Song:\n",
            "\n",
            "\n",
            " never never you other for love you i the rules you you never gonna tell you you i im thinking thinking guy tell going i going thinking you guy i tell dont you you never never rules to make you gonna the gonna say you down gonna tell let you down never i run around and never tell never gonna make you up never gonna say you down gonna tell a lie down hurt you never you rules other for so you tell on guy i i tell too shy to tell you you give the rules tell been going\n"
          ]
        },
        {
          "name": "stderr",
          "output_type": "stream",
          "text": [
            "100%|██████████| 100/100 [00:12<00:00,  8.25it/s]\n"
          ]
        }
      ],
      "source": [
        "CONTEXT_SIZE=8\n",
        "model_8 = NGramLanguageModeler(len(vocab), EMBEDDING_DIM, CONTEXT_SIZE).to(device)\n",
        "optimizer = optim.SGD(model_8.parameters(), lr=0.01)\n",
        "\n",
        "scheduler = torch.optim.lr_scheduler.StepLR(optimizer, 1.0, gamma=0.1)\n",
        "my_loss=train(dataloader,model_8)\n",
        "\n",
        "save_path = '8gram.pth'\n",
        "torch.save(model_8.state_dict(), save_path)\n",
        "\n",
        "my_loss_list.append(my_loss)"
      ]
    },
    {
      "cell_type": "markdown",
      "metadata": {
        "id": "o4QZOtn6VMmM"
      },
      "source": [
        "The code provided below shows word embeddings from the created model, reduces their dimensionality to 2D using t-SNE, and then plots them as a scatter plot. Additionally, it annotates the first 20 points in the visualization with their corresponding words. This is used to visualize how similar words cluster together in a lower-dimensional space, revealing the structure of the word embeddings. Embeddings allow the model to represent words in a continuous vector space, capturing semantic relationships and similarities between words.\n"
      ]
    },
    {
      "cell_type": "code",
      "execution_count": null,
      "metadata": {
        "id": "tMUlLsDlVMmM",
        "outputId": "b8cde56e-b8f4-489f-93da-16810834653b"
      },
      "outputs": [
        {
          "data": {
            "image/png": "[encoded data removed]",
            "text/plain": [
              "<Figure size 640x480 with 1 Axes>"
            ]
          },
          "metadata": {},
          "output_type": "display_data"
        }
      ],
      "source": [
        "X = model_8.embeddings.weight.cpu().detach().numpy()\n",
        "tsne = TSNE(n_components=2, random_state=42)\n",
        "X_2d = tsne.fit_transform(X)\n",
        "\n",
        "labels = []\n",
        "\n",
        "for j in range(len(X_2d)):\n",
        "    if j < 20:\n",
        "        plt.scatter(X_2d[j, 0], X_2d[j, 1], label=index_to_token[j])\n",
        "        labels.append(index_to_token[j])\n",
        "        # Add words as annotations\n",
        "        plt.annotate(index_to_token[j],\n",
        "                     (X_2d[j, 0], X_2d[j, 1]),\n",
        "                     textcoords=\"offset points\",\n",
        "                     xytext=(0, 10),\n",
        "                     ha='center')\n",
        "    else:\n",
        "        plt.scatter(X_2d[j, 0], X_2d[j, 1])\n",
        "\n",
        "plt.legend(labels, loc='upper left', bbox_to_anchor=(1, 1))\n",
        "plt.show()"
      ]
    },
    {
      "cell_type": "markdown",
      "metadata": {
        "id": "unBAKaVAVMmM"
      },
      "source": [
        "When considering the plotted loss for each model, a discernible trend emerges: an increase in context size correlates with a reduction in loss. While this specific approach lacks the inclusion of model validation or the utilization of conventional NLP evaluation metrics, the visual evidence substantiates its superior performance.\n"
      ]
    },
    {
      "cell_type": "code",
      "execution_count": null,
      "metadata": {
        "id": "M6y5ilqVVMmM",
        "outputId": "ccc63f8f-4e1d-4c13-b735-9f71a31dd63a"
      },
      "outputs": [
        {
          "data": {
            "image/png": "[encoded data removed]",
            "text/plain": [
              "<Figure size 640x480 with 1 Axes>"
            ]
          },
          "metadata": {},
          "output_type": "display_data"
        }
      ],
      "source": [
        "for (my_loss, model_name)in zip(my_loss_list,[\"2-gram\",\"4-gram\",\"8-gram\"]):\n",
        "    plt.plot(my_loss,label=\"Cross-entropy Loss - {}\".format(model_name))\n",
        "    plt.legend()"
      ]
    },
    {
      "cell_type": "markdown",
      "metadata": {
        "id": "ZdjLvbZaVMmM"
      },
      "source": [
        "## Perplexity\n",
        "Perplexity is a measurement used to evaluate the effectiveness of language models or probability models. It provides an indication of how well a model predicts a sample of data or the likelihood of an unseen event. Perplexity is commonly used in natural language processing tasks, such as machine translation, speech recognition, and language generation.\n",
        "\n",
        "Perplexity is derived from the concept of cross-entropy loss, which measures the dissimilarity between predicted probabilities and actual probabilities.\n",
        "\n",
        "$$\\text{Cross-Entropy Loss} = -\\sum_{i=1}^{N} y_i \\ln(p_i)$$\n",
        "The cross-entropy loss is calculated by taking the negative sum of the products of the true labels $y_i$ and the logarithm of the predicted probabilities $p_i$ over $N$ classes.\n",
        "\n",
        "Taking the exponential of the mean cross-entropy loss gives us the perplexity value.\n",
        "\n",
        "$$\\text{Perplexity} = e^{\\frac{1}{N} \\text{Cross-Entropy Loss}}$$\n",
        "\n",
        "\n",
        "A lower perplexity value indicates that the model is more confident and accurate in predicting the data. Conversely, a higher perplexity suggests that the model is less certain and less accurate in its predictions.\n",
        "\n",
        "Perplexity can be seen as an estimate of the average number of choices the model has for the next word or event in a sequence. A lower perplexity means that the model is more certain about the next word, while a higher perplexity means that there are more possible choices.\n"
      ]
    },
    {
      "cell_type": "code",
      "execution_count": null,
      "metadata": {
        "id": "H_pE2MFkVMmM",
        "outputId": "89b773d7-8844-4e83-e629-aca79110ca02"
      },
      "outputs": [
        {
          "data": {
            "image/png": "[encoded data removed]",
            "text/plain": [
              "<Figure size 640x480 with 1 Axes>"
            ]
          },
          "metadata": {},
          "output_type": "display_data"
        }
      ],
      "source": [
        "for (my_loss, model_name)in zip(my_loss_list,[\"2-gram\",\"4-gram\",\"8-gram\"]):\n",
        "    # Calculate perplexity using the loss\n",
        "    perplexity = np.exp(my_loss)\n",
        "    plt.plot(perplexity,label=\"Perplexity - {}\".format(model_name))\n",
        "    plt.legend()"
      ]
    },
    {
      "cell_type": "markdown",
      "metadata": {
        "id": "I5P6XOmYVMmM"
      },
      "source": [
        "# Exercises\n"
      ]
    },
    {
      "cell_type": "markdown",
      "metadata": {
        "id": "tbrYotPAVMmM"
      },
      "source": [
        "### Exercise 1 - Source a collection of nursery rhymes and compile them into a single text variable.\n"
      ]
    },
    {
      "cell_type": "code",
      "execution_count": null,
      "metadata": {
        "id": "3Nhik4ZBVMmM"
      },
      "outputs": [],
      "source": [
        "nursery_rhymes = \"\"\"\n",
        "Little Miss Muffet\n",
        "Sat on a tuffet,\n",
        "Eating her curds and whey;\n",
        "Along came a spider\n",
        "Who sat down beside her\n",
        "And frightened Miss Muffet away.\n",
        "\n",
        "Twinkle, twinkle, little star,\n",
        "How I wonder what you are!\n",
        "Up above the world so high,\n",
        "Like a diamond in the sky.\n",
        "\n",
        "Baa, baa, black sheep,\n",
        "Have you any wool?\n",
        "Yes sir, yes sir,\n",
        "Three bags full.\n",
        "\n",
        "Jack and Jill went up the hill\n",
        "To fetch a pail of water.\n",
        "Jack fell down and broke his crown,\n",
        "And Jill came tumbling after.\n",
        "\n",
        "Hickory dickory dock,\n",
        "The mouse ran up the clock.\n",
        "The clock struck one,\n",
        "The mouse ran down,\n",
        "Hickory dickory dock.\n",
        "\n",
        "Humpty Dumpty sat on a wall,\n",
        "Humpty Dumpty had a great fall.\n",
        "All the king's horses and all the king's men\n",
        "Couldn't put Humpty together again.\n",
        "\n",
        "Mary had a little lamb,\n",
        "Its fleece was white as snow;\n",
        "And everywhere that Mary went,\n",
        "The lamb was sure to go.\n",
        "\n",
        "Old MacDonald had a farm,\n",
        "E-I-E-I-O,\n",
        "And on his farm he had a cow,\n",
        "E-I-E-I-O.\n",
        "\n",
        "Itsy Bitsy Spider climbed up the waterspout.\n",
        "Down came the rain and washed the spider out.\n",
        "Out came the sun and dried up all the rain,\n",
        "And the Itsy Bitsy Spider climbed up the spout again.\n",
        "\n",
        "The wheels on the bus go round and round,\n",
        "Round and round,\n",
        "Round and round.\n",
        "The wheels on the bus go round and round,\n",
        "All through the town.\n",
        "\n",
        "\"\"\""
      ]
    },
    {
      "cell_type": "markdown",
      "metadata": {
        "id": "LcjkXrJEVMmN"
      },
      "source": [
        "<details>\n",
        "    <summary>Click here for Solution</summary>\n",
        "\n",
        "```python\n",
        "nursery_rhymes = \"\"\"\n",
        "Little Miss Muffet\n",
        "Sat on a tuffet,\n",
        "Eating her curds and whey;\n",
        "Along came a spider\n",
        "Who sat down beside her\n",
        "And frightened Miss Muffet away.\n",
        "\n",
        "Twinkle, twinkle, little star,\n",
        "How I wonder what you are!\n",
        "Up above the world so high,\n",
        "Like a diamond in the sky.\n",
        "\n",
        "Baa, baa, black sheep,\n",
        "Have you any wool?\n",
        "Yes sir, yes sir,\n",
        "Three bags full.\n",
        "\n",
        "Jack and Jill went up the hill\n",
        "To fetch a pail of water.\n",
        "Jack fell down and broke his crown,\n",
        "And Jill came tumbling after.\n",
        "\n",
        "Hickory dickory dock,\n",
        "The mouse ran up the clock.\n",
        "The clock struck one,\n",
        "The mouse ran down,\n",
        "Hickory dickory dock.\n",
        "\n",
        "Humpty Dumpty sat on a wall,\n",
        "Humpty Dumpty had a great fall.\n",
        "All the king's horses and all the king's men\n",
        "Couldn't put Humpty together again.\n",
        "\n",
        "Mary had a little lamb,\n",
        "Its fleece was white as snow;\n",
        "And everywhere that Mary went,\n",
        "The lamb was sure to go.\n",
        "\n",
        "Old MacDonald had a farm,\n",
        "E-I-E-I-O,\n",
        "And on his farm he had a cow,\n",
        "E-I-E-I-O.\n",
        "\n",
        "Itsy Bitsy Spider climbed up the waterspout.\n",
        "Down came the rain and washed the spider out.\n",
        "Out came the sun and dried up all the rain,\n",
        "And the Itsy Bitsy Spider climbed up the spout again.\n",
        "\n",
        "The wheels on the bus go round and round,\n",
        "Round and round,\n",
        "Round and round.\n",
        "The wheels on the bus go round and round,\n",
        "All through the town.\n",
        "\n",
        "\"\"\"\n",
        "```\n",
        "\n",
        "</details>\n"
      ]
    },
    {
      "cell_type": "markdown",
      "metadata": {
        "id": "o-Y89PJ0VMmN"
      },
      "source": [
        "### Exercise 2 - Preprocess the text data to tokenize and create n-grams.\n"
      ]
    },
    {
      "cell_type": "code",
      "execution_count": null,
      "metadata": {
        "id": "C1h9CHBdVMmN"
      },
      "outputs": [],
      "source": [
        "tokens = preprocess(nursery_rhymes)\n",
        "ngrams = list(nltk.ngrams(tokens, 4))"
      ]
    },
    {
      "cell_type": "markdown",
      "metadata": {
        "id": "_LBu-iStVMmN"
      },
      "source": [
        "<details>\n",
        "    <summary>Click here for Solution</summary>\n",
        "\n",
        "```python\n",
        "tokens = preprocess(nursery_rhymes)  # Use the preprocess function provided in the code.\n",
        "ngrams = list(nltk.ngrams(tokens, N))  # Where N is the size of the n-gram (2, 4, 8, etc.).\n",
        "```\n",
        "\n",
        "</details>\n"
      ]
    },
    {
      "cell_type": "markdown",
      "metadata": {
        "id": "6X-wYDf5VMmN"
      },
      "source": [
        "### Exercise 3 - Train an N-gram language model using the provided code structure.\n"
      ]
    },
    {
      "cell_type": "code",
      "execution_count": null,
      "metadata": {
        "id": "ECqqA9pNVMmN",
        "outputId": "d0b2e7bc-a69b-4bea-d92a-1dc63d4ee310"
      },
      "outputs": [
        {
          "name": "stderr",
          "output_type": "stream",
          "text": [
            "  1%|          | 1/100 [00:00<00:13,  7.46it/s]"
          ]
        },
        {
          "name": "stdout",
          "output_type": "stream",
          "text": [
            "Generated Song:\n",
            "\n",
            "\n",
            " both how cry both both both both let were cry let both up to both any both how cry any both how around any to both how both both let both both to both do do both up to do up any up how cry let whats both any to up let both both both to both whats rules to up up let both let both cry any both both to cry cry both cry do cry let never up to let do any to both how both both both both let both both how both both both any any\n"
          ]
        },
        {
          "name": "stderr",
          "output_type": "stream",
          "text": [
            " 11%|█         | 11/100 [00:01<00:12,  6.95it/s]"
          ]
        },
        {
          "name": "stdout",
          "output_type": "stream",
          "text": [
            "Generated Song:\n",
            "\n",
            "\n",
            " you you you you you you never you you you you you you you you you you you you never never you you you you you you you you you you you never you you you you you you you you you never you you never you you you never you you you you you you you never you you you you you you you you you you never you you you you never you you you you you you you you you you you you you you you you you you you you you you you never you you\n"
          ]
        },
        {
          "name": "stderr",
          "output_type": "stream",
          "text": [
            " 22%|██▏       | 22/100 [00:02<00:11,  6.60it/s]"
          ]
        },
        {
          "name": "stdout",
          "output_type": "stream",
          "text": [
            "Generated Song:\n",
            "\n",
            "\n",
            " you let you you you you never never down you you you you you you you never let you down never you you never you you you you you you you you never down tell you you make you you never you never you you never you you you never you you you you you you down never you you you you you you never down you down never you down make you let around down never down you you you you you never you you you you you you you you you you down you you down you you\n"
          ]
        },
        {
          "name": "stderr",
          "output_type": "stream",
          "text": [
            " 31%|███       | 31/100 [00:04<00:09,  7.07it/s]"
          ]
        },
        {
          "name": "stdout",
          "output_type": "stream",
          "text": [
            "Generated Song:\n",
            "\n",
            "\n",
            " up let you you up you never never down you down you you you you you never let you down never you you never you you you you you you you you never down i down you make you you never you never you the never up you you let you you up you you you down i you you you you you you never up you down never you up make you let around down never down you you you you i never you you you you you you you you you you let you you up you you\n"
          ]
        },
        {
          "name": "stderr",
          "output_type": "stream",
          "text": [
            " 42%|████▏     | 42/100 [00:05<00:06,  8.35it/s]"
          ]
        },
        {
          "name": "stdout",
          "output_type": "stream",
          "text": [
            "Generated Song:\n",
            "\n",
            "\n",
            " up let you down up up never never down you down you you you you down never let you down never you you never you you you up you you you you never up i down you make you you never you never you the never up you you let you you up you you you up i you you you you you you never up you down never you up make you let around down never down you you you you i never you up you you you up you you you up let you you up you you\n"
          ]
        },
        {
          "name": "stderr",
          "output_type": "stream",
          "text": [
            " 52%|█████▏    | 52/100 [00:06<00:06,  7.64it/s]"
          ]
        },
        {
          "name": "stdout",
          "output_type": "stream",
          "text": [
            "Generated Song:\n",
            "\n",
            "\n",
            " up let you down up up the never down you down you you you you down never let you down up you you never you you you up you you you up never up i down you make you you never you never rules the never up you you let you you up you you you up i you you you you you let never up you down never you up make you let around down never down you you you you i never you up you you you up you you you up let you you up you you\n"
          ]
        },
        {
          "name": "stderr",
          "output_type": "stream",
          "text": [
            " 62%|██████▏   | 62/100 [00:08<00:04,  8.53it/s]"
          ]
        },
        {
          "name": "stdout",
          "output_type": "stream",
          "text": [
            "Generated Song:\n",
            "\n",
            "\n",
            " up let you down up up the never down you down you you you you down never let you down up you you never you you you up you you you up never up i down you make you you never you up rules the never up you you let you you up you you you up i you you you you you let never up you down never you up make you let around down never down you you you you i never you up you you you up you you you up let you you up you you\n"
          ]
        },
        {
          "name": "stderr",
          "output_type": "stream",
          "text": [
            " 72%|███████▏  | 72/100 [00:09<00:03,  7.65it/s]"
          ]
        },
        {
          "name": "stdout",
          "output_type": "stream",
          "text": [
            "Generated Song:\n",
            "\n",
            "\n",
            " up let you down up up the never let you down you you you you down never let you down up you you never you you you up you you you up never up i down you make you you never you up rules the never up you you let you you up you you you up i you you you you you let never up you down never you up make you down around down never down you you you you i never you up you you you up you you you up let you you up you you\n"
          ]
        },
        {
          "name": "stderr",
          "output_type": "stream",
          "text": [
            " 83%|████████▎ | 83/100 [00:10<00:01,  8.91it/s]"
          ]
        },
        {
          "name": "stdout",
          "output_type": "stream",
          "text": [
            "Generated Song:\n",
            "\n",
            "\n",
            " up let you down up up the never let you down you you you you down never let you down up you you never you you you up you you you up never up i down you make you you never you up rules the never up you you let you you up you you you up i you you you you you let never up you down never you up make you down around down never down you you you you i never you up you you you up you you you up let you never up let you\n"
          ]
        },
        {
          "name": "stderr",
          "output_type": "stream",
          "text": [
            " 92%|█████████▏| 92/100 [00:11<00:00,  8.09it/s]"
          ]
        },
        {
          "name": "stdout",
          "output_type": "stream",
          "text": [
            "Generated Song:\n",
            "\n",
            "\n",
            " up let you down up up the never let you down you you you you down never let you down up you you never you you you up you you you up never up i down you make you you never you up rules the never up you you let you you up you you you up i you you you you you let never up you down never you up make you down around down never down you you you you i never you up you you you up you you you up let you never up let you\n"
          ]
        },
        {
          "name": "stderr",
          "output_type": "stream",
          "text": [
            "100%|██████████| 100/100 [00:12<00:00,  7.83it/s]\n"
          ]
        }
      ],
      "source": [
        "model = NGramLanguageModeler(len(vocab), EMBEDDING_DIM, CONTEXT_SIZE).to(device)\n",
        "optimizer = optim.SGD(model.parameters(), lr=0.01)\n",
        "scheduler = torch.optim.lr_scheduler.StepLR(optimizer, 1.0, gamma=0.1)\n",
        "loss_history = train(dataloader, model)"
      ]
    },
    {
      "cell_type": "markdown",
      "metadata": {
        "id": "hi6cqY_2VMmN"
      },
      "source": [
        "<details>\n",
        "    <summary>Click here for Solution</summary>\n",
        "\n",
        "```python\n",
        "model = NGramLanguageModeler(len(vocab), EMBEDDING_DIM, CONTEXT_SIZE).to(device)\n",
        "optimizer = optim.SGD(model.parameters(), lr=0.01)\n",
        "scheduler = torch.optim.lr_scheduler.StepLR(optimizer, 1.0, gamma=0.1)\n",
        "loss_history = train(dataloader, model)\n",
        "```\n",
        "\n",
        "</details>\n"
      ]
    },
    {
      "cell_type": "markdown",
      "metadata": {
        "id": "nvj3uDd9VMmN"
      },
      "source": [
        "### Exercise 4 - After training, use the model to generate a new nursery rhyme and then print it.\n"
      ]
    },
    {
      "cell_type": "code",
      "execution_count": null,
      "metadata": {
        "id": "dQhiIgQKVMmO",
        "outputId": "cc29a842-6e8d-4aa3-936a-5fa93cd3e3fe"
      },
      "outputs": [
        {
          "name": "stdout",
          "output_type": "stream",
          "text": [
            " up let you down up up the never let you down you you you you down never let you down up you you never you you you up you you you up never up i down you make you you never you up rules the never up you you let you you up you you you up i you you you you you let never up you down never you up make you down around down never down you you you you i never you up you you you up you you you up let you never up let you\n"
          ]
        }
      ],
      "source": [
        "generated_rhyme = write_song(model)\n",
        "print(generated_rhyme)"
      ]
    },
    {
      "cell_type": "markdown",
      "metadata": {
        "id": "a-8kx8wCVMmO"
      },
      "source": [
        "<details>\n",
        "    <summary>Click here for Solution</summary>\n",
        "\n",
        "```python\n",
        "generated_rhyme = write_song(model)\n",
        "print(generated_rhyme)\n",
        "```\n",
        "\n",
        "</details>\n"
      ]
    },
    {
      "cell_type": "markdown",
      "metadata": {
        "id": "qIqq1NyWVMmO"
      },
      "source": [
        "---\n"
      ]
    },
    {
      "cell_type": "markdown",
      "metadata": {
        "id": "MT1E94BIVMmO"
      },
      "source": [
        "# Congratulations! You have completed the lab\n"
      ]
    },
    {
      "cell_type": "markdown",
      "metadata": {
        "id": "XPIK_pm_VMmO"
      },
      "source": [
        "## Authors\n"
      ]
    },
    {
      "cell_type": "markdown",
      "metadata": {
        "id": "YBKk1-WrVMmO"
      },
      "source": [
        "[Joseph Santarcangelo](https://www.linkedin.com/in/joseph-s-50398b136/) has a Ph.D. in Electrical Engineering, his research focused on using machine learning, signal processing, and computer vision to determine how videos impact human cognition. Joseph has been working for IBM since he completed his PhD.\n"
      ]
    },
    {
      "cell_type": "markdown",
      "metadata": {
        "id": "IrU4dOmFVMmO"
      },
      "source": [
        "### Contributor\n",
        "\n",
        "[Roodra Kanwar](https://www.linkedin.com/in/roodrakanwar/) is completing his MS in CS specializing in big data from Simon Fraser University. He has previous experience working with machine learning and as a data engineer.\n"
      ]
    },
    {
      "cell_type": "markdown",
      "metadata": {
        "id": "TwgoCgxJVMmO"
      },
      "source": [
        "```{## Change log}\n"
      ]
    },
    {
      "cell_type": "markdown",
      "metadata": {
        "id": "3V1LFfhGVMmO"
      },
      "source": [
        "```{|Date (YYYY-MM-DD)|Version|Changed By|Change Description||-|-|-|-||2023-09-01|0.1|Joseph|Created Lab Template & Guided Project||2023-09-03|0.1|Joseph|Updated Guided Project|}\n"
      ]
    },
    {
      "cell_type": "markdown",
      "metadata": {
        "id": "r2frs69CVMmO"
      },
      "source": [
        "© Copyright IBM Corporation. All rights reserved.\n"
      ]
    }
  ],
  "metadata": {
    "kernelspec": {
      "display_name": "Python",
      "language": "python",
      "name": "conda-env-python-py"
    },
    "language_info": {
      "codemirror_mode": {
        "name": "ipython",
        "version": 3
      },
      "file_extension": ".py",
      "mimetype": "text/x-python",
      "name": "python",
      "nbconvert_exporter": "python",
      "pygments_lexer": "ipython3",
      "version": "3.7.12"
    },
    "prev_pub_hash": "0a16654e8e302b1f91dadf2be951cab7b9ead51000f72bdcb05b8f7fb14afcf2",
    "colab": {
      "provenance": [],
      "include_colab_link": true
    }
  },
  "nbformat": 4,
  "nbformat_minor": 0
}